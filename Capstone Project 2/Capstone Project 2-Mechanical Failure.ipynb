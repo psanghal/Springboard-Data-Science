{
 "cells": [
  {
   "cell_type": "code",
   "execution_count": 736,
   "metadata": {},
   "outputs": [],
   "source": [
    "import pandas as pd\n",
    "import numpy as np\n",
    "import matplotlib.pyplot as plt\n",
    "%matplotlib inline\n",
    "import seaborn as sns\n",
    "import datetime "
   ]
  },
  {
   "cell_type": "code",
   "execution_count": 737,
   "metadata": {},
   "outputs": [
    {
     "data": {
      "text/html": [
       "<div>\n",
       "<style scoped>\n",
       "    .dataframe tbody tr th:only-of-type {\n",
       "        vertical-align: middle;\n",
       "    }\n",
       "\n",
       "    .dataframe tbody tr th {\n",
       "        vertical-align: top;\n",
       "    }\n",
       "\n",
       "    .dataframe thead th {\n",
       "        text-align: right;\n",
       "    }\n",
       "</style>\n",
       "<table border=\"1\" class=\"dataframe\">\n",
       "  <thead>\n",
       "    <tr style=\"text-align: right;\">\n",
       "      <th></th>\n",
       "      <th>DATAFILE_AS_OF</th>\n",
       "      <th>FORM_REV</th>\n",
       "      <th>OPERATOR_ID</th>\n",
       "      <th>REPORT_YEAR</th>\n",
       "      <th>REPORT_NUMBER</th>\n",
       "      <th>SUPPLEMENTAL_NUMBER</th>\n",
       "      <th>REPORT_TYPE</th>\n",
       "      <th>REPORT_DATE</th>\n",
       "      <th>FILING_DATE</th>\n",
       "      <th>OPERATOR_NAME</th>\n",
       "      <th>...</th>\n",
       "      <th>SECOND_PIPE_MATERIAL_OTHER</th>\n",
       "      <th>SECOND_PIPE_PLASTIC_TEXT</th>\n",
       "      <th>SECOND_PIPE_PLASTIC_OTHER</th>\n",
       "      <th>LEAK_CAUSE_TEXT</th>\n",
       "      <th>LEAK_CAUSE_OTHER</th>\n",
       "      <th>NF_THERMAL_EXP_TEXT</th>\n",
       "      <th>EX_DAMAGE_OCCURRED_TEXT</th>\n",
       "      <th>MAT_WELDS_LEAK_CAUSE_TEXT</th>\n",
       "      <th>LEAK_OCCURRED_TEXT</th>\n",
       "      <th>MFF_NUMBER_FROM_OPERATOR</th>\n",
       "    </tr>\n",
       "  </thead>\n",
       "  <tbody>\n",
       "    <tr>\n",
       "      <th>0</th>\n",
       "      <td>4/3/2018</td>\n",
       "      <td>7100.1-2 10-2014</td>\n",
       "      <td>1209</td>\n",
       "      <td>2018</td>\n",
       "      <td>20180227120985471</td>\n",
       "      <td>85414</td>\n",
       "      <td>INITIAL</td>\n",
       "      <td>3/6/2018</td>\n",
       "      <td>3/6/2018</td>\n",
       "      <td>COLUMBIA GAS OF MASSACHUSETTS</td>\n",
       "      <td>...</td>\n",
       "      <td>NaN</td>\n",
       "      <td>NaN</td>\n",
       "      <td>NaN</td>\n",
       "      <td>OTHER</td>\n",
       "      <td>NOT DETERMINED</td>\n",
       "      <td>NaN</td>\n",
       "      <td>NaN</td>\n",
       "      <td>NaN</td>\n",
       "      <td>LEAKED THROUGH SEAL</td>\n",
       "      <td>00028186</td>\n",
       "    </tr>\n",
       "    <tr>\n",
       "      <th>1</th>\n",
       "      <td>4/3/2018</td>\n",
       "      <td>7100.1-2 10-2014</td>\n",
       "      <td>1209</td>\n",
       "      <td>2018</td>\n",
       "      <td>20180219120985470</td>\n",
       "      <td>85413</td>\n",
       "      <td>INITIAL</td>\n",
       "      <td>3/6/2018</td>\n",
       "      <td>3/6/2018</td>\n",
       "      <td>COLUMBIA GAS OF MASSACHUSETTS</td>\n",
       "      <td>...</td>\n",
       "      <td>NaN</td>\n",
       "      <td>POLYETHYLENE (PE)</td>\n",
       "      <td>NaN</td>\n",
       "      <td>CORROSION</td>\n",
       "      <td>NaN</td>\n",
       "      <td>NaN</td>\n",
       "      <td>NaN</td>\n",
       "      <td>NaN</td>\n",
       "      <td>LEAKED THROUGH BODY</td>\n",
       "      <td>00028008</td>\n",
       "    </tr>\n",
       "    <tr>\n",
       "      <th>2</th>\n",
       "      <td>4/3/2018</td>\n",
       "      <td>7100.1-2 10-2014</td>\n",
       "      <td>1209</td>\n",
       "      <td>2018</td>\n",
       "      <td>20180216120985468</td>\n",
       "      <td>85411</td>\n",
       "      <td>INITIAL</td>\n",
       "      <td>3/6/2018</td>\n",
       "      <td>3/6/2018</td>\n",
       "      <td>COLUMBIA GAS OF MASSACHUSETTS</td>\n",
       "      <td>...</td>\n",
       "      <td>NaN</td>\n",
       "      <td>NaN</td>\n",
       "      <td>NaN</td>\n",
       "      <td>OTHER</td>\n",
       "      <td>NOT DETERMINED</td>\n",
       "      <td>NaN</td>\n",
       "      <td>NaN</td>\n",
       "      <td>NaN</td>\n",
       "      <td>LEAKED THROUGH SEAL</td>\n",
       "      <td>00027950</td>\n",
       "    </tr>\n",
       "    <tr>\n",
       "      <th>3</th>\n",
       "      <td>4/3/2018</td>\n",
       "      <td>7100.1-2 10-2014</td>\n",
       "      <td>1209</td>\n",
       "      <td>2018</td>\n",
       "      <td>20180215120985467</td>\n",
       "      <td>85410</td>\n",
       "      <td>INITIAL</td>\n",
       "      <td>3/6/2018</td>\n",
       "      <td>3/6/2018</td>\n",
       "      <td>COLUMBIA GAS OF MASSACHUSETTS</td>\n",
       "      <td>...</td>\n",
       "      <td>NaN</td>\n",
       "      <td>NaN</td>\n",
       "      <td>NaN</td>\n",
       "      <td>OTHER</td>\n",
       "      <td>NOT DETERMINED</td>\n",
       "      <td>NaN</td>\n",
       "      <td>NaN</td>\n",
       "      <td>NaN</td>\n",
       "      <td>LEAKED THROUGH SEAL</td>\n",
       "      <td>00027949</td>\n",
       "    </tr>\n",
       "    <tr>\n",
       "      <th>4</th>\n",
       "      <td>4/3/2018</td>\n",
       "      <td>7100.1-2 10-2014</td>\n",
       "      <td>1209</td>\n",
       "      <td>2018</td>\n",
       "      <td>20180215120985466</td>\n",
       "      <td>85409</td>\n",
       "      <td>INITIAL</td>\n",
       "      <td>3/6/2018</td>\n",
       "      <td>3/6/2018</td>\n",
       "      <td>COLUMBIA GAS OF MASSACHUSETTS</td>\n",
       "      <td>...</td>\n",
       "      <td>NaN</td>\n",
       "      <td>NaN</td>\n",
       "      <td>NaN</td>\n",
       "      <td>NATURAL FORCES</td>\n",
       "      <td>NaN</td>\n",
       "      <td>NO</td>\n",
       "      <td>NaN</td>\n",
       "      <td>NaN</td>\n",
       "      <td>LEAKED THROUGH SEAL</td>\n",
       "      <td>00027912</td>\n",
       "    </tr>\n",
       "  </tbody>\n",
       "</table>\n",
       "<p>5 rows × 54 columns</p>\n",
       "</div>"
      ],
      "text/plain": [
       "  DATAFILE_AS_OF          FORM_REV  OPERATOR_ID  REPORT_YEAR  \\\n",
       "0       4/3/2018  7100.1-2 10-2014         1209         2018   \n",
       "1       4/3/2018  7100.1-2 10-2014         1209         2018   \n",
       "2       4/3/2018  7100.1-2 10-2014         1209         2018   \n",
       "3       4/3/2018  7100.1-2 10-2014         1209         2018   \n",
       "4       4/3/2018  7100.1-2 10-2014         1209         2018   \n",
       "\n",
       "       REPORT_NUMBER  SUPPLEMENTAL_NUMBER REPORT_TYPE REPORT_DATE FILING_DATE  \\\n",
       "0  20180227120985471                85414     INITIAL    3/6/2018    3/6/2018   \n",
       "1  20180219120985470                85413     INITIAL    3/6/2018    3/6/2018   \n",
       "2  20180216120985468                85411     INITIAL    3/6/2018    3/6/2018   \n",
       "3  20180215120985467                85410     INITIAL    3/6/2018    3/6/2018   \n",
       "4  20180215120985466                85409     INITIAL    3/6/2018    3/6/2018   \n",
       "\n",
       "                   OPERATOR_NAME  ... SECOND_PIPE_MATERIAL_OTHER  \\\n",
       "0  COLUMBIA GAS OF MASSACHUSETTS  ...                        NaN   \n",
       "1  COLUMBIA GAS OF MASSACHUSETTS  ...                        NaN   \n",
       "2  COLUMBIA GAS OF MASSACHUSETTS  ...                        NaN   \n",
       "3  COLUMBIA GAS OF MASSACHUSETTS  ...                        NaN   \n",
       "4  COLUMBIA GAS OF MASSACHUSETTS  ...                        NaN   \n",
       "\n",
       "  SECOND_PIPE_PLASTIC_TEXT SECOND_PIPE_PLASTIC_OTHER LEAK_CAUSE_TEXT  \\\n",
       "0                      NaN                       NaN           OTHER   \n",
       "1        POLYETHYLENE (PE)                       NaN       CORROSION   \n",
       "2                      NaN                       NaN           OTHER   \n",
       "3                      NaN                       NaN           OTHER   \n",
       "4                      NaN                       NaN  NATURAL FORCES   \n",
       "\n",
       "  LEAK_CAUSE_OTHER NF_THERMAL_EXP_TEXT EX_DAMAGE_OCCURRED_TEXT  \\\n",
       "0   NOT DETERMINED                 NaN                     NaN   \n",
       "1              NaN                 NaN                     NaN   \n",
       "2   NOT DETERMINED                 NaN                     NaN   \n",
       "3   NOT DETERMINED                 NaN                     NaN   \n",
       "4              NaN                  NO                     NaN   \n",
       "\n",
       "  MAT_WELDS_LEAK_CAUSE_TEXT   LEAK_OCCURRED_TEXT MFF_NUMBER_FROM_OPERATOR  \n",
       "0                       NaN  LEAKED THROUGH SEAL                 00028186  \n",
       "1                       NaN  LEAKED THROUGH BODY                 00028008  \n",
       "2                       NaN  LEAKED THROUGH SEAL                 00027950  \n",
       "3                       NaN  LEAKED THROUGH SEAL                 00027949  \n",
       "4                       NaN  LEAKED THROUGH SEAL                 00027912  \n",
       "\n",
       "[5 rows x 54 columns]"
      ]
     },
     "execution_count": 737,
     "metadata": {},
     "output_type": "execute_result"
    }
   ],
   "source": [
    "df = pd.read_csv('mechanical_fitting_failures_2011_2018-03.csv', parse_dates=True)\n",
    "df.head()"
   ]
  },
  {
   "cell_type": "code",
   "execution_count": 738,
   "metadata": {
    "scrolled": true
   },
   "outputs": [
    {
     "name": "stdout",
     "output_type": "stream",
     "text": [
      "(85611, 54)\n",
      "<class 'pandas.core.frame.DataFrame'>\n",
      "RangeIndex: 85611 entries, 0 to 85610\n",
      "Data columns (total 54 columns):\n",
      "DATAFILE_AS_OF                   85611 non-null object\n",
      "FORM_REV                         85611 non-null object\n",
      "OPERATOR_ID                      85611 non-null int64\n",
      "REPORT_YEAR                      85611 non-null int64\n",
      "REPORT_NUMBER                    85611 non-null int64\n",
      "SUPPLEMENTAL_NUMBER              85611 non-null int64\n",
      "REPORT_TYPE                      85611 non-null object\n",
      "REPORT_DATE                      85611 non-null object\n",
      "FILING_DATE                      85611 non-null object\n",
      "OPERATOR_NAME                    85611 non-null object\n",
      "HQ_ADDRESS_STREET                85611 non-null object\n",
      "HQ_ADDRESS_CITY                  85611 non-null object\n",
      "HQ_ADDRESS_COUNTY                6266 non-null object\n",
      "HQ_ADDRESS_STATE                 85611 non-null object\n",
      "HQ_ADDRESS_ZIP                   85611 non-null object\n",
      "FAILURE_STATE                    85611 non-null object\n",
      "FAILURE_DATE                     85611 non-null object\n",
      "MF_INVOLVED_TEXT                 85611 non-null object\n",
      "MF_INVOLVED_OTHER                14177 non-null object\n",
      "MF_TYPE_TEXT                     85611 non-null object\n",
      "MF_TYPE_OTHER                    3054 non-null object\n",
      "LEAK_LOCATION_A_TEXT             85602 non-null object\n",
      "LEAK_LOCATION_B_TEXT             85611 non-null object\n",
      "LEAK_LOCATION_C_TEXT             85611 non-null object\n",
      "YEAR_INSTALLED                   62279 non-null object\n",
      "YEAR_MANUFACTURED                58424 non-null object\n",
      "DECADE_INSTALLED                 8364 non-null object\n",
      "MANUFACTURE                      85558 non-null object\n",
      "MANUFACTURE_MAPPED               85611 non-null object\n",
      "MANUFACTURE_OTHER                2928 non-null object\n",
      "MODEL_NUMBER                     85017 non-null object\n",
      "LOT_NUMBER                       84639 non-null object\n",
      "LOT_ATTRIBUTES                   10594 non-null object\n",
      "FITTING_MATERIAL_TEXT            85611 non-null object\n",
      "FITTING_MATERIAL_OTHER           1200 non-null object\n",
      "FIRST_PIPE_NOMINAL_SIZE_TEXT     85611 non-null object\n",
      "FIRST_PIPE_UNIT_TEXT             85611 non-null object\n",
      "FIRST_PIPE_MATERIAL_TEXT         85611 non-null object\n",
      "FIRST_PIPE_MATERIAL_OTHER        2766 non-null object\n",
      "FIRST_PIPE_PLASTIC_TEXT          26758 non-null object\n",
      "FIRST_PIPE_PLASTIC_OTHER         54 non-null object\n",
      "SECOND_PIPE_NOMINAL_SIZE_TEXT    85314 non-null object\n",
      "SECOND_PIPE_UNIT_TEXT            85316 non-null object\n",
      "SECOND_PIPE_MATERIAL_TEXT        85316 non-null object\n",
      "SECOND_PIPE_MATERIAL_OTHER       337 non-null object\n",
      "SECOND_PIPE_PLASTIC_TEXT         27029 non-null object\n",
      "SECOND_PIPE_PLASTIC_OTHER        43 non-null object\n",
      "LEAK_CAUSE_TEXT                  85611 non-null object\n",
      "LEAK_CAUSE_OTHER                 6344 non-null object\n",
      "NF_THERMAL_EXP_TEXT              12845 non-null object\n",
      "EX_DAMAGE_OCCURRED_TEXT          2108 non-null object\n",
      "MAT_WELDS_LEAK_CAUSE_TEXT        12551 non-null object\n",
      "LEAK_OCCURRED_TEXT               85611 non-null object\n",
      "MFF_NUMBER_FROM_OPERATOR         74232 non-null object\n",
      "dtypes: int64(4), object(50)\n",
      "memory usage: 35.3+ MB\n",
      "None\n"
     ]
    }
   ],
   "source": [
    "#Explorong Data Structure\n",
    "\n",
    "print(df.shape)\n",
    "#print(df.columns)\n",
    "print(df.info())"
   ]
  },
  {
   "cell_type": "code",
   "execution_count": 739,
   "metadata": {},
   "outputs": [],
   "source": [
    "#Convert date objects in to datetime: \n",
    "def convert_todate(dataframe, col):\n",
    "    '''Converts date objects in to datetime format'''\n",
    "    \n",
    "    return pd.to_datetime(dataframe[col])\n",
    "\n",
    "df['DATAFILE_AS_OF'] = convert_todate(df,'DATAFILE_AS_OF')\n",
    "df['REPORT_YEAR']    = convert_todate(df,'REPORT_YEAR')\n",
    "df['REPORT_DATE']    = convert_todate(df,'REPORT_DATE')\n",
    "df['FILING_DATE']    = convert_todate(df,'FILING_DATE')"
   ]
  },
  {
   "cell_type": "code",
   "execution_count": 828,
   "metadata": {},
   "outputs": [
    {
     "name": "stdout",
     "output_type": "stream",
     "text": [
      "<class 'pandas.core.frame.DataFrame'>\n",
      "Int64Index: 85611 entries, 0 to 85610\n",
      "Data columns (total 4 columns):\n",
      "DATAFILE_AS_OF    85611 non-null datetime64[ns]\n",
      "REPORT_YEAR       85611 non-null datetime64[ns]\n",
      "REPORT_DATE       85611 non-null datetime64[ns]\n",
      "FILING_DATE       85611 non-null datetime64[ns]\n",
      "dtypes: datetime64[ns](4)\n",
      "memory usage: 3.3 MB\n"
     ]
    }
   ],
   "source": [
    "#Result:\n",
    "df[['DATAFILE_AS_OF', 'REPORT_YEAR', 'REPORT_DATE', 'FILING_DATE']].info()"
   ]
  },
  {
   "cell_type": "code",
   "execution_count": 740,
   "metadata": {},
   "outputs": [
    {
     "name": "stdout",
     "output_type": "stream",
     "text": [
      "{nan, '6?', '1/2?', '1-3/4?', '4?', '1-1/2?', '1?', '1/4?', '3?', '1-1/4?', '2?', '8? OR LARGER', '3/4?'}\n"
     ]
    }
   ],
   "source": [
    "#Unique keys in first and second pipe sizes\n",
    "\n",
    "dict_key_1 =(df['FIRST_PIPE_NOMINAL_SIZE_TEXT'])\n",
    "dict_key_1=list(set(dict_key_1))\n",
    "\n",
    "dict_key_2 =(df['SECOND_PIPE_NOMINAL_SIZE_TEXT'])\n",
    "dict_key_2=list(set(dict_key_2))\n",
    "\n",
    "print((set(dict_key_1 + dict_key_2)))  "
   ]
  },
  {
   "cell_type": "code",
   "execution_count": 741,
   "metadata": {},
   "outputs": [],
   "source": [
    "def convert_tostr(dataframe, col):\n",
    "    print(set(dataframe[col].astype(str)))\n",
    "    return dataframe[col].astype(str)\n",
    "    \n",
    "def convert_tofl(string):\n",
    "    return string.map({'1-1/2?' : 1.5,\n",
    "                       '1-1/4?' : 1.25,\n",
    "                       '1-3/4?' : 1.75,\n",
    "                       '1/2?' : 0.5,\n",
    "                       '1/4?' : 0.25,\n",
    "                       '1?' : 1,\n",
    "                       '2?' : 2,\n",
    "                       '3/4?' : 0.75,\n",
    "                       '3?' : 3,\n",
    "                       '4?' : 4,\n",
    "                       '6?' : 6,\n",
    "                       '8? OR LARGER' : 8,\n",
    "                       'nan' : np.nan})\n",
    "\n",
    "#Function Test:\n",
    "#dict_1 = {'1-1/2?' : 1.5, '1-1/4?' : 1.25, '1-3/4?' : 1.75, '1/2?' : 0.5, '1/4?' : 0.25, '1?' : 1, '2?' : 2, '3/4?' : 0.75, '3?' : 3, '4?' : 4, '6?' : 6, '8? OR LARGER' : 8}\n",
    "#fist_pipe_size=df_num_1.map(dict_1)\n",
    "\n"
   ]
  },
  {
   "cell_type": "code",
   "execution_count": 742,
   "metadata": {},
   "outputs": [
    {
     "name": "stdout",
     "output_type": "stream",
     "text": [
      "{'6?', '8? OR LARGER', '1/2?', '1-3/4?', '4?', '1-1/2?', '1?', '1/4?', '3?', '2?', '1-1/4?', '3/4?'}\n",
      "{'6?', '8? OR LARGER', '1/2?', '1-3/4?', 'nan', '4?', '1-1/2?', '1?', '1/4?', '3?', '2?', '1-1/4?', '3/4?'}\n",
      "0    0.75\n",
      "1    0.75\n",
      "2    0.75\n",
      "3    2.00\n",
      "4    1.00\n",
      "Name: FIRST_PIPE_NOMINAL_SIZE_TEXT, dtype: float64 0    0.75\n",
      "1    0.50\n",
      "2    0.75\n",
      "3    2.00\n",
      "4    1.00\n",
      "Name: SECOND_PIPE_NOMINAL_SIZE_TEXT, dtype: float64\n"
     ]
    }
   ],
   "source": [
    "df_pipe_1, df_pipe_2 =convert_tofl(convert_tostr(df,'FIRST_PIPE_NOMINAL_SIZE_TEXT')), convert_tofl(convert_tostr(df,'SECOND_PIPE_NOMINAL_SIZE_TEXT'))\n",
    "print(df_pipe_1.head(), df_pipe_2.head())"
   ]
  },
  {
   "cell_type": "code",
   "execution_count": 803,
   "metadata": {},
   "outputs": [
    {
     "name": "stdout",
     "output_type": "stream",
     "text": [
      "Null Value in 1st Pipe After Conversion: 0 \n",
      "Null Value in 2nd Pipe After Conversion: 297\n"
     ]
    }
   ],
   "source": [
    "df['FIRST_PIPE_NOMINAL_SIZE_TEXT'], df['SECOND_PIPE_NOMINAL_SIZE_TEXT']  = df_pipe_1, df_pipe_2  \n",
    "print('Null Value in 1st Pipe After Conversion:', df['FIRST_PIPE_NOMINAL_SIZE_TEXT'].isnull().sum(), '\\n''Null Value in 2nd Pipe After Conversion:', df['SECOND_PIPE_NOMINAL_SIZE_TEXT'].isnull().sum())"
   ]
  },
  {
   "cell_type": "code",
   "execution_count": 823,
   "metadata": {},
   "outputs": [],
   "source": [
    "def impute(dataframe, col):\n",
    "    \"\"\"Replace missing values with the mean of column\"\"\"\n",
    "    \n",
    "    return round(dataframe[col].fillna(dataframe[col].mean()),2)\n",
    "\n",
    "df['SECOND_PIPE_NOMINAL_SIZE_TEXT'] = impute(df,'SECOND_PIPE_NOMINAL_SIZE_TEXT')"
   ]
  },
  {
   "cell_type": "code",
   "execution_count": 827,
   "metadata": {},
   "outputs": [
    {
     "data": {
      "text/plain": [
       "0"
      ]
     },
     "execution_count": 827,
     "metadata": {},
     "output_type": "execute_result"
    }
   ],
   "source": [
    "#Result: Impute\n",
    "df['SECOND_PIPE_NOMINAL_SIZE_TEXT'].isnull().sum()"
   ]
  },
  {
   "cell_type": "code",
   "execution_count": 829,
   "metadata": {},
   "outputs": [
    {
     "name": "stdout",
     "output_type": "stream",
     "text": [
      "No Variance in FORM_REV\n"
     ]
    }
   ],
   "source": [
    "#Any variance in column'FORM_REV'?: \n",
    "df['FORM_REV'].value_counts() #Only 1 unique value. Shows no variance. \n",
    "\n",
    "print('No Variance in FORM_REV')"
   ]
  },
  {
   "cell_type": "code",
   "execution_count": 830,
   "metadata": {},
   "outputs": [
    {
     "name": "stdout",
     "output_type": "stream",
     "text": [
      "68% Columns with Missing Values: 17\n"
     ]
    },
    {
     "data": {
      "text/plain": [
       "<Figure size 720x720 with 0 Axes>"
      ]
     },
     "metadata": {},
     "output_type": "display_data"
    }
   ],
   "source": [
    "#Number of columns > 68% missing values:\n",
    "plt.figure(figsize = (10,10))\n",
    "df_null =pd.DataFrame(df.isnull().sum()/df.shape[0]>0.60).reset_index()\n",
    "df_null.columns = ['col_name', 'null_yes']\n",
    "i=df_null.col_name[df_null.null_yes==True]\n",
    "print('68% Columns with Missing Values:', len(i))"
   ]
  },
  {
   "cell_type": "code",
   "execution_count": 831,
   "metadata": {},
   "outputs": [
    {
     "name": "stdout",
     "output_type": "stream",
     "text": [
      "Missing Values, Percentage:\n",
      " [(79345, 0.9268084708740699), (71434, 0.83440212122274), (82557, 0.9643270140519326), (77247, 0.9023022742404597), (82683, 0.9657987875389845), (75017, 0.8762542196680333), (84411, 0.9859831096471248), (82845, 0.9676910677366226), (58853, 0.6874467066148042), (85557, 0.9993692399341206), (85274, 0.9960635899592342), (58582, 0.6842812255434465), (85568, 0.9994977280956886), (79267, 0.9258973730011331), (72766, 0.8499608695144315), (83503, 0.9753769959467825), (73060, 0.8533950076508859)]\n"
     ]
    },
    {
     "data": {
      "image/png": "[encoded data removed]",
      "text/plain": [
       "<Figure size 1080x360 with 1 Axes>"
      ]
     },
     "metadata": {
      "needs_background": "light"
     },
     "output_type": "display_data"
    }
   ],
   "source": [
    "#Plot of missing values: \n",
    "print('Missing Values, Percentage:''\\n',list(zip(df[i].isnull().sum(),df[i].isnull().sum()/df.shape[0])))\n",
    "df[i].isnull().sum().plot('bar', figsize = (15,5), color = 'red')\n",
    "_=plt.xlabel('Missing Values Column Names', fontsize = 15)\n",
    "_=plt.ylabel('Count of Missing Values', fontsize = 15)\n",
    "_=plt.title('Missing Values > 68%', fontsize = 15)\n"
   ]
  },
  {
   "cell_type": "code",
   "execution_count": 832,
   "metadata": {},
   "outputs": [],
   "source": [
    "# Functions for Exploring Missing Values (Future Use:) \n",
    "def missing_values(dataframe):\n",
    "    \"\"\"Identifies missing values and Percentage of missing values in the dataframe\"\"\"\n",
    "    \n",
    "    missing=dataframe.isnull().sum()\n",
    "    missing_percentage = round(missing/dataframe.shape[0],2)\n",
    "    return list(zip(missing, missing_percentage))    \n",
    "\n",
    "def missing_greaterthan_0(missing_values_dataframe):\n",
    "    \"\"\"Returns missing values and percentage greater than zero\"\"\"\n",
    "    return [(missing, missing_percentage) for (missing, missing_percentage) in missing_values_dataframe if missing_percentage > 0]\n",
    "        \n",
    "def missing_len(dataframe, percentage):\n",
    "    return len(dataframe.isnull().sum()[(dataframe.isnull().sum()/dataframe.shape[0] > percentage) == True])\n",
    "\n",
    "def missing_avg(dataframe):\n",
    "    total_missing_percentage = sum(dataframe.isnull().sum()/dataframe.shape[0])\n",
    "    length_missing_values = len(dataframe.isnull().sum()[(dataframe.isnull().sum()/dataframe.shape[0] >0) == True])\n",
    "    return round(total_missing_percentage/length_missing_values,2)\n",
    "          "
   ]
  },
  {
   "cell_type": "code",
   "execution_count": 833,
   "metadata": {},
   "outputs": [
    {
     "name": "stdout",
     "output_type": "stream",
     "text": [
      "Missing Values & Percentage:\n",
      " [(79345, 0.93), (71434, 0.83), (82557, 0.96), (23332, 0.27), (27187, 0.32), (77247, 0.9), (82683, 0.97), (594, 0.01), (972, 0.01), (75017, 0.88), (84411, 0.99), (82845, 0.97), (58853, 0.69), (85557, 1.0), (85274, 1.0), (58582, 0.68), (85568, 1.0), (79267, 0.93), (72766, 0.85), (83503, 0.98), (73060, 0.85), (11379, 0.13)] \n",
      "\n",
      "Number of Columns with Missing Vlaues:\n",
      " 26 \n",
      "\n",
      "Percentage of Missing Values on Average:\n",
      " 0.62\n"
     ]
    }
   ],
   "source": [
    "print('Missing Values & Percentage:''\\n',missing_greaterthan_0(missing_values(df)),\n",
    "      '\\n' '\\n' 'Number of Columns with Missing Vlaues:''\\n', missing_len(df,0), \n",
    "      '\\n' '\\n' 'Percentage of Missing Values on Average:''\\n', missing_avg(df)) "
   ]
  },
  {
   "cell_type": "code",
   "execution_count": 835,
   "metadata": {},
   "outputs": [
    {
     "data": {
      "text/plain": [
       "HQ_ADDRESS_COUNTY              84\n",
       "MF_INVOLVED_OTHER             741\n",
       "MF_TYPE_OTHER                 328\n",
       "DECADE_INSTALLED               10\n",
       "MANUFACTURE_OTHER             217\n",
       "LOT_ATTRIBUTES                738\n",
       "FITTING_MATERIAL_OTHER         58\n",
       "FIRST_PIPE_MATERIAL_OTHER      45\n",
       "FIRST_PIPE_PLASTIC_TEXT         9\n",
       "FIRST_PIPE_PLASTIC_OTHER       31\n",
       "SECOND_PIPE_MATERIAL_OTHER     56\n",
       "SECOND_PIPE_PLASTIC_TEXT        9\n",
       "SECOND_PIPE_PLASTIC_OTHER      24\n",
       "LEAK_CAUSE_OTHER              822\n",
       "NF_THERMAL_EXP_TEXT             2\n",
       "EX_DAMAGE_OCCURRED_TEXT         2\n",
       "MAT_WELDS_LEAK_CAUSE_TEXT       2\n",
       "dtype: int64"
      ]
     },
     "execution_count": 835,
     "metadata": {},
     "output_type": "execute_result"
    }
   ],
   "source": [
    "df[i][df[i].notnull() == True].nunique()"
   ]
  },
  {
   "cell_type": "code",
   "execution_count": null,
   "metadata": {},
   "outputs": [],
   "source": []
  }
 ],
 "metadata": {
  "kernelspec": {
   "display_name": "Python 3",
   "language": "python",
   "name": "python3"
  },
  "language_info": {
   "codemirror_mode": {
    "name": "ipython",
    "version": 3
   },
   "file_extension": ".py",
   "mimetype": "text/x-python",
   "name": "python",
   "nbconvert_exporter": "python",
   "pygments_lexer": "ipython3",
   "version": "3.6.8"
  }
 },
 "nbformat": 4,
 "nbformat_minor": 2
}
