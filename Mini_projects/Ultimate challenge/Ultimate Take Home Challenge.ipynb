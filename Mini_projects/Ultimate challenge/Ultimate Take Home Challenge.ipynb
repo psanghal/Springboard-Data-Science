{
 "cells": [
  {
   "cell_type": "markdown",
   "metadata": {},
   "source": [
    "**Part 1 ‐ Exploratory data analysis**\n",
    "The attached logins.json file contains (simulated) timestamps of user logins in a particular geographic location. Aggregate these login counts based on 15­minute time intervals, and visualize and describe the resulting time series of login counts in ways that best characterize the underlying patterns of the demand. Please report/illustrate important features of the demand, such as daily cycles. If there are data quality issues, please report them."
   ]
  },
  {
   "cell_type": "code",
   "execution_count": 958,
   "metadata": {},
   "outputs": [],
   "source": [
    "import pandas as pd\n",
    "import numpy as np\n",
    "import matplotlib.pyplot as plt\n",
    "%matplotlib inline\n",
    "import seaborn as sns\n",
    "import json\n",
    "import datetime\n",
    "import warnings\n",
    "warnings.filterwarnings('ignore')"
   ]
  },
  {
   "cell_type": "code",
   "execution_count": 959,
   "metadata": {},
   "outputs": [],
   "source": [
    "#Read json file:\n",
    "df= pd.read_json('logins.json')"
   ]
  },
  {
   "cell_type": "code",
   "execution_count": 960,
   "metadata": {},
   "outputs": [
    {
     "data": {
      "text/html": [
       "<div>\n",
       "<style scoped>\n",
       "    .dataframe tbody tr th:only-of-type {\n",
       "        vertical-align: middle;\n",
       "    }\n",
       "\n",
       "    .dataframe tbody tr th {\n",
       "        vertical-align: top;\n",
       "    }\n",
       "\n",
       "    .dataframe thead th {\n",
       "        text-align: right;\n",
       "    }\n",
       "</style>\n",
       "<table border=\"1\" class=\"dataframe\">\n",
       "  <thead>\n",
       "    <tr style=\"text-align: right;\">\n",
       "      <th></th>\n",
       "      <th>login_time</th>\n",
       "    </tr>\n",
       "  </thead>\n",
       "  <tbody>\n",
       "    <tr>\n",
       "      <th>0</th>\n",
       "      <td>1970-01-01 20:13:18</td>\n",
       "    </tr>\n",
       "    <tr>\n",
       "      <th>1</th>\n",
       "      <td>1970-01-01 20:16:10</td>\n",
       "    </tr>\n",
       "    <tr>\n",
       "      <th>2</th>\n",
       "      <td>1970-01-01 20:16:37</td>\n",
       "    </tr>\n",
       "    <tr>\n",
       "      <th>3</th>\n",
       "      <td>1970-01-01 20:16:36</td>\n",
       "    </tr>\n",
       "    <tr>\n",
       "      <th>4</th>\n",
       "      <td>1970-01-01 20:26:21</td>\n",
       "    </tr>\n",
       "  </tbody>\n",
       "</table>\n",
       "</div>"
      ],
      "text/plain": [
       "           login_time\n",
       "0 1970-01-01 20:13:18\n",
       "1 1970-01-01 20:16:10\n",
       "2 1970-01-01 20:16:37\n",
       "3 1970-01-01 20:16:36\n",
       "4 1970-01-01 20:26:21"
      ]
     },
     "execution_count": 960,
     "metadata": {},
     "output_type": "execute_result"
    }
   ],
   "source": [
    "#View file:\n",
    "df.head()"
   ]
  },
  {
   "cell_type": "code",
   "execution_count": 961,
   "metadata": {},
   "outputs": [
    {
     "name": "stdout",
     "output_type": "stream",
     "text": [
      "<class 'pandas.core.frame.DataFrame'>\n",
      "RangeIndex: 93142 entries, 0 to 93141\n",
      "Data columns (total 1 columns):\n",
      "login_time    93142 non-null datetime64[ns]\n",
      "dtypes: datetime64[ns](1)\n",
      "memory usage: 727.8 KB\n"
     ]
    }
   ],
   "source": [
    "df.info()"
   ]
  },
  {
   "cell_type": "code",
   "execution_count": 962,
   "metadata": {},
   "outputs": [
    {
     "data": {
      "text/html": [
       "<div>\n",
       "<style scoped>\n",
       "    .dataframe tbody tr th:only-of-type {\n",
       "        vertical-align: middle;\n",
       "    }\n",
       "\n",
       "    .dataframe tbody tr th {\n",
       "        vertical-align: top;\n",
       "    }\n",
       "\n",
       "    .dataframe thead th {\n",
       "        text-align: right;\n",
       "    }\n",
       "</style>\n",
       "<table border=\"1\" class=\"dataframe\">\n",
       "  <thead>\n",
       "    <tr style=\"text-align: right;\">\n",
       "      <th></th>\n",
       "      <th>login_time</th>\n",
       "    </tr>\n",
       "  </thead>\n",
       "  <tbody>\n",
       "    <tr>\n",
       "      <th>count</th>\n",
       "      <td>93142</td>\n",
       "    </tr>\n",
       "    <tr>\n",
       "      <th>unique</th>\n",
       "      <td>92265</td>\n",
       "    </tr>\n",
       "    <tr>\n",
       "      <th>top</th>\n",
       "      <td>1970-02-12 11:16:53</td>\n",
       "    </tr>\n",
       "    <tr>\n",
       "      <th>freq</th>\n",
       "      <td>3</td>\n",
       "    </tr>\n",
       "    <tr>\n",
       "      <th>first</th>\n",
       "      <td>1970-01-01 20:12:16</td>\n",
       "    </tr>\n",
       "    <tr>\n",
       "      <th>last</th>\n",
       "      <td>1970-04-13 18:57:38</td>\n",
       "    </tr>\n",
       "  </tbody>\n",
       "</table>\n",
       "</div>"
      ],
      "text/plain": [
       "                 login_time\n",
       "count                 93142\n",
       "unique                92265\n",
       "top     1970-02-12 11:16:53\n",
       "freq                      3\n",
       "first   1970-01-01 20:12:16\n",
       "last    1970-04-13 18:57:38"
      ]
     },
     "execution_count": 962,
     "metadata": {},
     "output_type": "execute_result"
    }
   ],
   "source": [
    "df.describe()"
   ]
  },
  {
   "cell_type": "code",
   "execution_count": 963,
   "metadata": {},
   "outputs": [],
   "source": [
    "df['month'], df['weekday'] =df['login_time'].dt.month, df['login_time'].dt.weekday"
   ]
  },
  {
   "cell_type": "code",
   "execution_count": 964,
   "metadata": {},
   "outputs": [],
   "source": [
    "#Set log_in time as index:\n",
    "df_login=df.set_index('login_time')"
   ]
  },
  {
   "cell_type": "code",
   "execution_count": 965,
   "metadata": {},
   "outputs": [],
   "source": [
    "#Resample login time to every 15 minutedf_login['count'] = 1\n",
    "df_login['count'] = 1\n",
    "df_login = df_login.resample('15T').sum()  #log in count every 15 minutes\n",
    "df_login = df_login.sort_values('count', ascending = False)#head()"
   ]
  },
  {
   "cell_type": "code",
   "execution_count": 966,
   "metadata": {},
   "outputs": [
    {
     "data": {
      "image/png": "[encoded data removed]",
      "text/plain": [
       "<Figure size 1080x720 with 1 Axes>"
      ]
     },
     "metadata": {
      "needs_background": "light"
     },
     "output_type": "display_data"
    }
   ],
   "source": [
    "#Plot login time:\n",
    "df_login.plot(figsize = (15,10), linewidth = 3, fontsize = 15)\n",
    "_ = plt.title('Count of Login Time Every 15 minutes')"
   ]
  },
  {
   "cell_type": "code",
   "execution_count": 967,
   "metadata": {},
   "outputs": [
    {
     "name": "stdout",
     "output_type": "stream",
     "text": [
      "           login_time  month  weekday  count\n",
      "0 1970-03-01 04:30:00    219      438     73\n"
     ]
    }
   ],
   "source": [
    "#Result: \n",
    "month = df_login.reset_index()\n",
    "print(month.sort_values('count', ascending = False).head(1))"
   ]
  },
  {
   "cell_type": "markdown",
   "metadata": {},
   "source": [
    "#### Observation: \n",
    "1. March 1, 1970 had maximum logins every 15 minutes "
   ]
  },
  {
   "cell_type": "code",
   "execution_count": 968,
   "metadata": {},
   "outputs": [],
   "source": [
    "#Let's look at monthly trend:\n",
    "\n",
    "jan, feb, mar, apr = (df_login['1970-01-01': '1970-01-31'],\n",
    "                      df_login['1970-02-01': '1970-02-28'],\n",
    "                      df_login['1970-03-01': '1970-03-31'],\n",
    "                      df_login['1970-04-01': '1970-04-30'])"
   ]
  },
  {
   "cell_type": "code",
   "execution_count": 969,
   "metadata": {},
   "outputs": [
    {
     "data": {
      "image/png": "[encoded data removed]",
      "text/plain": [
       "<Figure size 1080x720 with 4 Axes>"
      ]
     },
     "metadata": {
      "needs_background": "light"
     },
     "output_type": "display_data"
    }
   ],
   "source": [
    "plt.figure(figsize = (15,10))\n",
    "plt.subplot(2,2,1)\n",
    "jan['count'].plot(color = 'green')\n",
    "_ = plt.title('Jan login time every 15 minutes')\n",
    "plt.subplot(2,2,2)\n",
    "feb['count'].plot(color = 'blue')\n",
    "_ = plt.title('Feb login time every 15 minutes')\n",
    "plt.subplot(2,2,3)\n",
    "mar['count'].plot(color = 'red')\n",
    "_ = plt.title('Mar login time every 15 minutes')\n",
    "plt.subplot(2,2,4)\n",
    "apr['count'].plot(color = 'black')\n",
    "_ = plt.title('Apr login time every 15 minutes')\n",
    "plt.tight_layout()\n",
    "plt.show()"
   ]
  },
  {
   "cell_type": "code",
   "execution_count": 970,
   "metadata": {},
   "outputs": [],
   "source": [
    "#Reset Index: \n",
    "jan=jan.reset_index()\n",
    "feb=feb.reset_index()\n",
    "mar=mar.reset_index()\n",
    "apr=apr.reset_index()\n",
    "#sns.barplot(x = 'weekday', y = 'count', data = jan)"
   ]
  },
  {
   "cell_type": "code",
   "execution_count": 971,
   "metadata": {},
   "outputs": [],
   "source": [
    "#Find weekdays for four months fron Jan to Apr:\n",
    "jan['weekday'] =jan['login_time'].dt.weekday\n",
    "feb['weekday'] =feb['login_time'].dt.weekday\n",
    "mar['weekday'] =mar['login_time'].dt.weekday\n",
    "apr['weekday'] =apr['login_time'].dt.weekday"
   ]
  },
  {
   "cell_type": "code",
   "execution_count": 972,
   "metadata": {},
   "outputs": [
    {
     "data": {
      "text/html": [
       "<div>\n",
       "<style scoped>\n",
       "    .dataframe tbody tr th:only-of-type {\n",
       "        vertical-align: middle;\n",
       "    }\n",
       "\n",
       "    .dataframe tbody tr th {\n",
       "        vertical-align: top;\n",
       "    }\n",
       "\n",
       "    .dataframe thead th {\n",
       "        text-align: right;\n",
       "    }\n",
       "</style>\n",
       "<table border=\"1\" class=\"dataframe\">\n",
       "  <thead>\n",
       "    <tr style=\"text-align: right;\">\n",
       "      <th></th>\n",
       "      <th>login_time</th>\n",
       "      <th>month</th>\n",
       "      <th>weekday</th>\n",
       "      <th>count</th>\n",
       "    </tr>\n",
       "  </thead>\n",
       "  <tbody>\n",
       "    <tr>\n",
       "      <th>0</th>\n",
       "      <td>1970-01-11 04:45:00</td>\n",
       "      <td>45</td>\n",
       "      <td>6</td>\n",
       "      <td>45</td>\n",
       "    </tr>\n",
       "    <tr>\n",
       "      <th>1</th>\n",
       "      <td>1970-01-18 04:15:00</td>\n",
       "      <td>42</td>\n",
       "      <td>6</td>\n",
       "      <td>42</td>\n",
       "    </tr>\n",
       "    <tr>\n",
       "      <th>2</th>\n",
       "      <td>1970-01-18 02:15:00</td>\n",
       "      <td>38</td>\n",
       "      <td>6</td>\n",
       "      <td>38</td>\n",
       "    </tr>\n",
       "    <tr>\n",
       "      <th>3</th>\n",
       "      <td>1970-01-25 04:45:00</td>\n",
       "      <td>36</td>\n",
       "      <td>6</td>\n",
       "      <td>36</td>\n",
       "    </tr>\n",
       "    <tr>\n",
       "      <th>4</th>\n",
       "      <td>1970-01-18 03:00:00</td>\n",
       "      <td>34</td>\n",
       "      <td>6</td>\n",
       "      <td>34</td>\n",
       "    </tr>\n",
       "  </tbody>\n",
       "</table>\n",
       "</div>"
      ],
      "text/plain": [
       "           login_time  month  weekday  count\n",
       "0 1970-01-11 04:45:00     45        6     45\n",
       "1 1970-01-18 04:15:00     42        6     42\n",
       "2 1970-01-18 02:15:00     38        6     38\n",
       "3 1970-01-25 04:45:00     36        6     36\n",
       "4 1970-01-18 03:00:00     34        6     34"
      ]
     },
     "execution_count": 972,
     "metadata": {},
     "output_type": "execute_result"
    }
   ],
   "source": [
    "#View\n",
    "jan.head()"
   ]
  },
  {
   "cell_type": "code",
   "execution_count": 973,
   "metadata": {},
   "outputs": [
    {
     "data": {
      "image/png": "[encoded data removed]",
      "text/plain": [
       "<Figure size 1080x720 with 4 Axes>"
      ]
     },
     "metadata": {
      "needs_background": "light"
     },
     "output_type": "display_data"
    }
   ],
   "source": [
    "#Plot barplot from Jan to Apr:\n",
    "_ = plt.figure(figsize = (15,10))\n",
    "plt.subplot(2,2,1)\n",
    "sns.barplot(x = 'weekday', y = 'count', data = jan, palette='Set1')\n",
    "_ = plt.title('January-Weekday login time every 15 minutes')\n",
    "plt.subplot(2,2,2)\n",
    "sns.barplot(x = 'weekday', y = 'count', data = feb, palette= 'Set2')\n",
    "_ = plt.title('February-Weekday login time every 15 minutes')\n",
    "plt.subplot(2,2,3)\n",
    "sns.barplot(x = 'weekday', y = 'count', data = mar, palette = 'viridis')\n",
    "_ = plt.title('March-Weekday login time every 15 minutes')\n",
    "plt.subplot(2,2,4)\n",
    "sns.barplot(x = 'weekday', y = 'count', data = apr, palette = 'plasma')\n",
    "_ = plt.title('April-Weekday login time every 15 minutes')\n",
    "plt.tight_layout()\n",
    "plt.show()"
   ]
  },
  {
   "cell_type": "markdown",
   "metadata": {},
   "source": [
    "#### Observation: \n",
    "Weekday 5th had maximum count of logins"
   ]
  },
  {
   "cell_type": "code",
   "execution_count": 974,
   "metadata": {},
   "outputs": [
    {
     "data": {
      "text/plain": [
       "<matplotlib.axes._subplots.AxesSubplot at 0x7ffaa99fb7b8>"
      ]
     },
     "execution_count": 974,
     "metadata": {},
     "output_type": "execute_result"
    },
    {
     "data": {
      "image/png": "[encoded data removed]",
      "text/plain": [
       "<Figure size 432x288 with 1 Axes>"
      ]
     },
     "metadata": {
      "needs_background": "light"
     },
     "output_type": "display_data"
    }
   ],
   "source": [
    "#All 4 months trend of login counts every 15 minutes:\n",
    "df_login=df_login.reset_index()\n",
    "df_login['all_month']=df_login['login_time'].dt.month\n",
    "sns.barplot(x = 'all_month', y = 'count', data= df_login, palette='inferno')"
   ]
  },
  {
   "cell_type": "markdown",
   "metadata": {},
   "source": [
    "#### Observation: \n",
    "1, Month of march accounted for maximum login counts."
   ]
  },
  {
   "cell_type": "markdown",
   "metadata": {},
   "source": [
    "**Part 2 ‐ Experiment and metrics design**\n",
    "The neighboring cities of Gotham and Metropolis have complementary circadian rhythms: on weekdays, Ultimate Gotham is most active at night, and Ultimate Metropolis is most active during the day. On weekends, there is reasonable activity in both cities.\n",
    "However, a toll bridge, with a two­way toll, between the two cities causes driver partners to tend to be exclusive to each city. The Ultimate managers of city operations for the two cities have proposed an experiment to encourage driver partners to be available in both cities, by reimbursing all toll costs.\n",
    "1. What would you choose as the key measure of success of this experiment in encouraging driver partners to serve both cities, and why would you choose this metric?\n",
    "2. Describe a practical experiment you would design to compare the effectiveness of the proposed change in relation to the key measure of success. Please provide details on:\n",
    "a. how you will implement the experiment\n",
    "b. what statistical test(s) you will conduct to verify the significance of the\n",
    "observation\n",
    "c. how you would interpret the results and provide recommendations to the city\n",
    "operations team along with any caveats."
   ]
  },
  {
   "cell_type": "markdown",
   "metadata": {},
   "source": [
    "**Answer**: \n",
    "Beyond the cost of toll reimbursement, driver partners would want a strong demand for their services while they are servicing neigbouring city. It would be important to collect sample data first and then use hypothesis test to confirm their need of service during peak demand hours. Once, this is established, we can identify how many driver  By striking a balance between demand and availability and toll cost reimbursement, city riders should benefit greatly. "
   ]
  },
  {
   "cell_type": "markdown",
   "metadata": {},
   "source": [
    "**Part 3 ‐ Predictive modeling**\n",
    "Ultimate is interested in predicting rider retention. To help explore this question, we have provided a sample dataset of a cohort of users who signed up for an Ultimate account in\n",
    "January 2014. The data was pulled several months later; we consider a user retained if they were “active” (i.e. took a trip) in the preceding 30 days.\n",
    "We would like you to use this data set to help understand what factors are the best predictors for retention, and offer suggestions to operationalize those insights to help Ultimate.\n",
    "The data is in the attached file ultimate_data_challenge.json. See below for a detailed description of the dataset. Please include any code you wrote for the analysis and delete the dataset when you have finished with the challenge.\n",
    "1. Perform any cleaning, exploratory analysis, and/or visualizations to use the provided data for this analysis (a few sentences/plots describing your approach will suffice). What fraction of the observed users were retained?\n",
    "2. Build a predictive model to help Ultimate determine whether or not a user will be active in their 6th month on the system. Discuss why you chose your approach, what alternatives you considered, and any concerns you have. How valid is your model? Include any key indicators of model performance.\n",
    "3. Briefly discuss how Ultimate might leverage the insights gained from the model to improve its long­term rider retention (again, a few sentences will suffice).\n",
    "\n",
    "#### Data description\n",
    "1. city: city this user signed up in\n",
    "2. phone: primary device for this user\n",
    "3. signup_date: date of account registration; in the form ‘YYYY MM DD’\n",
    "4. last_trip_date: the last time this user completed a trip; in the form ‘YYYY MM DD’\n",
    "5. avg_dist: the average distance in miles per trip taken in the first 30 days after signup\n",
    "6. avg_rating_by_driver: the rider’s average rating over all of their trips\n",
    "6. avg_rating_of_driver: the rider’s average rating of their drivers over all of their trips\n",
    "7. surge_pct: the percent of trips taken with surge multiplier > 1\n",
    "8. avg_surge: The average surge multiplier over all of this user’s trips\n",
    "9. trips_in_first_30_days: the number of trips this user took in the first 30 days after signing up\n",
    "10. ultimate_black_user: TRUE if the user took an Ultimate Black in their first 30 days; FALSE otherwise\n",
    "11. weekday_pct: the percent of the user’s trips occurring during a weekday"
   ]
  },
  {
   "cell_type": "code",
   "execution_count": 975,
   "metadata": {},
   "outputs": [
    {
     "data": {
      "text/html": [
       "<div>\n",
       "<style scoped>\n",
       "    .dataframe tbody tr th:only-of-type {\n",
       "        vertical-align: middle;\n",
       "    }\n",
       "\n",
       "    .dataframe tbody tr th {\n",
       "        vertical-align: top;\n",
       "    }\n",
       "\n",
       "    .dataframe thead th {\n",
       "        text-align: right;\n",
       "    }\n",
       "</style>\n",
       "<table border=\"1\" class=\"dataframe\">\n",
       "  <thead>\n",
       "    <tr style=\"text-align: right;\">\n",
       "      <th></th>\n",
       "      <th>avg_dist</th>\n",
       "      <th>avg_rating_by_driver</th>\n",
       "      <th>avg_rating_of_driver</th>\n",
       "      <th>avg_surge</th>\n",
       "      <th>city</th>\n",
       "      <th>last_trip_date</th>\n",
       "      <th>phone</th>\n",
       "      <th>signup_date</th>\n",
       "      <th>surge_pct</th>\n",
       "      <th>trips_in_first_30_days</th>\n",
       "      <th>ultimate_black_user</th>\n",
       "      <th>weekday_pct</th>\n",
       "    </tr>\n",
       "  </thead>\n",
       "  <tbody>\n",
       "    <tr>\n",
       "      <th>0</th>\n",
       "      <td>3.67</td>\n",
       "      <td>5.0</td>\n",
       "      <td>4.7</td>\n",
       "      <td>1.10</td>\n",
       "      <td>King's Landing</td>\n",
       "      <td>2014-06-17</td>\n",
       "      <td>iPhone</td>\n",
       "      <td>2014-01-25</td>\n",
       "      <td>15.4</td>\n",
       "      <td>4</td>\n",
       "      <td>True</td>\n",
       "      <td>46.2</td>\n",
       "    </tr>\n",
       "    <tr>\n",
       "      <th>1</th>\n",
       "      <td>8.26</td>\n",
       "      <td>5.0</td>\n",
       "      <td>5.0</td>\n",
       "      <td>1.00</td>\n",
       "      <td>Astapor</td>\n",
       "      <td>2014-05-05</td>\n",
       "      <td>Android</td>\n",
       "      <td>2014-01-29</td>\n",
       "      <td>0.0</td>\n",
       "      <td>0</td>\n",
       "      <td>False</td>\n",
       "      <td>50.0</td>\n",
       "    </tr>\n",
       "    <tr>\n",
       "      <th>2</th>\n",
       "      <td>0.77</td>\n",
       "      <td>5.0</td>\n",
       "      <td>4.3</td>\n",
       "      <td>1.00</td>\n",
       "      <td>Astapor</td>\n",
       "      <td>2014-01-07</td>\n",
       "      <td>iPhone</td>\n",
       "      <td>2014-01-06</td>\n",
       "      <td>0.0</td>\n",
       "      <td>3</td>\n",
       "      <td>False</td>\n",
       "      <td>100.0</td>\n",
       "    </tr>\n",
       "    <tr>\n",
       "      <th>3</th>\n",
       "      <td>2.36</td>\n",
       "      <td>4.9</td>\n",
       "      <td>4.6</td>\n",
       "      <td>1.14</td>\n",
       "      <td>King's Landing</td>\n",
       "      <td>2014-06-29</td>\n",
       "      <td>iPhone</td>\n",
       "      <td>2014-01-10</td>\n",
       "      <td>20.0</td>\n",
       "      <td>9</td>\n",
       "      <td>True</td>\n",
       "      <td>80.0</td>\n",
       "    </tr>\n",
       "    <tr>\n",
       "      <th>4</th>\n",
       "      <td>3.13</td>\n",
       "      <td>4.9</td>\n",
       "      <td>4.4</td>\n",
       "      <td>1.19</td>\n",
       "      <td>Winterfell</td>\n",
       "      <td>2014-03-15</td>\n",
       "      <td>Android</td>\n",
       "      <td>2014-01-27</td>\n",
       "      <td>11.8</td>\n",
       "      <td>14</td>\n",
       "      <td>False</td>\n",
       "      <td>82.4</td>\n",
       "    </tr>\n",
       "  </tbody>\n",
       "</table>\n",
       "</div>"
      ],
      "text/plain": [
       "   avg_dist  avg_rating_by_driver  avg_rating_of_driver  avg_surge  \\\n",
       "0      3.67                   5.0                   4.7       1.10   \n",
       "1      8.26                   5.0                   5.0       1.00   \n",
       "2      0.77                   5.0                   4.3       1.00   \n",
       "3      2.36                   4.9                   4.6       1.14   \n",
       "4      3.13                   4.9                   4.4       1.19   \n",
       "\n",
       "             city last_trip_date    phone signup_date  surge_pct  \\\n",
       "0  King's Landing     2014-06-17   iPhone  2014-01-25       15.4   \n",
       "1         Astapor     2014-05-05  Android  2014-01-29        0.0   \n",
       "2         Astapor     2014-01-07   iPhone  2014-01-06        0.0   \n",
       "3  King's Landing     2014-06-29   iPhone  2014-01-10       20.0   \n",
       "4      Winterfell     2014-03-15  Android  2014-01-27       11.8   \n",
       "\n",
       "   trips_in_first_30_days  ultimate_black_user  weekday_pct  \n",
       "0                       4                 True         46.2  \n",
       "1                       0                False         50.0  \n",
       "2                       3                False        100.0  \n",
       "3                       9                 True         80.0  \n",
       "4                      14                False         82.4  "
      ]
     },
     "execution_count": 975,
     "metadata": {},
     "output_type": "execute_result"
    }
   ],
   "source": [
    "file = open('ultimate_data_challenge.json', 'r')\n",
    "rt = pd.DataFrame(json.load(file))\n",
    "file.close()\n",
    "rt.head()"
   ]
  },
  {
   "cell_type": "code",
   "execution_count": 976,
   "metadata": {},
   "outputs": [
    {
     "name": "stdout",
     "output_type": "stream",
     "text": [
      "<class 'pandas.core.frame.DataFrame'>\n",
      "RangeIndex: 50000 entries, 0 to 49999\n",
      "Data columns (total 12 columns):\n",
      "avg_dist                  50000 non-null float64\n",
      "avg_rating_by_driver      49799 non-null float64\n",
      "avg_rating_of_driver      41878 non-null float64\n",
      "avg_surge                 50000 non-null float64\n",
      "city                      50000 non-null object\n",
      "last_trip_date            50000 non-null object\n",
      "phone                     49604 non-null object\n",
      "signup_date               50000 non-null object\n",
      "surge_pct                 50000 non-null float64\n",
      "trips_in_first_30_days    50000 non-null int64\n",
      "ultimate_black_user       50000 non-null bool\n",
      "weekday_pct               50000 non-null float64\n",
      "dtypes: bool(1), float64(6), int64(1), object(4)\n",
      "memory usage: 4.2+ MB\n"
     ]
    }
   ],
   "source": [
    "rt.info()"
   ]
  },
  {
   "cell_type": "code",
   "execution_count": 977,
   "metadata": {},
   "outputs": [],
   "source": [
    "#Missing Value and Percentage\n",
    "missing_value , missing_percentage = rt.isnull().sum(), rt.isnull().sum()/rt.shape[0]*100\n",
    "missing_columns =pd.DataFrame(list(zip(missing_value , missing_percentage)), columns = ['missing_value', 'missing_percentage'])\n",
    "rt_col = list(rt.columns) \n",
    "rt_col=pd.DataFrame(rt_col, columns = ['columns'])"
   ]
  },
  {
   "cell_type": "code",
   "execution_count": 978,
   "metadata": {},
   "outputs": [
    {
     "data": {
      "text/html": [
       "<div>\n",
       "<style scoped>\n",
       "    .dataframe tbody tr th:only-of-type {\n",
       "        vertical-align: middle;\n",
       "    }\n",
       "\n",
       "    .dataframe tbody tr th {\n",
       "        vertical-align: top;\n",
       "    }\n",
       "\n",
       "    .dataframe thead th {\n",
       "        text-align: right;\n",
       "    }\n",
       "</style>\n",
       "<table border=\"1\" class=\"dataframe\">\n",
       "  <thead>\n",
       "    <tr style=\"text-align: right;\">\n",
       "      <th></th>\n",
       "      <th>columns</th>\n",
       "      <th>missing_value</th>\n",
       "      <th>missing_percentage</th>\n",
       "    </tr>\n",
       "  </thead>\n",
       "  <tbody>\n",
       "    <tr>\n",
       "      <th>0</th>\n",
       "      <td>avg_dist</td>\n",
       "      <td>0</td>\n",
       "      <td>0.000</td>\n",
       "    </tr>\n",
       "    <tr>\n",
       "      <th>1</th>\n",
       "      <td>avg_rating_by_driver</td>\n",
       "      <td>201</td>\n",
       "      <td>0.402</td>\n",
       "    </tr>\n",
       "    <tr>\n",
       "      <th>2</th>\n",
       "      <td>avg_rating_of_driver</td>\n",
       "      <td>8122</td>\n",
       "      <td>16.244</td>\n",
       "    </tr>\n",
       "    <tr>\n",
       "      <th>3</th>\n",
       "      <td>avg_surge</td>\n",
       "      <td>0</td>\n",
       "      <td>0.000</td>\n",
       "    </tr>\n",
       "    <tr>\n",
       "      <th>4</th>\n",
       "      <td>city</td>\n",
       "      <td>0</td>\n",
       "      <td>0.000</td>\n",
       "    </tr>\n",
       "    <tr>\n",
       "      <th>5</th>\n",
       "      <td>last_trip_date</td>\n",
       "      <td>0</td>\n",
       "      <td>0.000</td>\n",
       "    </tr>\n",
       "    <tr>\n",
       "      <th>6</th>\n",
       "      <td>phone</td>\n",
       "      <td>396</td>\n",
       "      <td>0.792</td>\n",
       "    </tr>\n",
       "    <tr>\n",
       "      <th>7</th>\n",
       "      <td>signup_date</td>\n",
       "      <td>0</td>\n",
       "      <td>0.000</td>\n",
       "    </tr>\n",
       "    <tr>\n",
       "      <th>8</th>\n",
       "      <td>surge_pct</td>\n",
       "      <td>0</td>\n",
       "      <td>0.000</td>\n",
       "    </tr>\n",
       "    <tr>\n",
       "      <th>9</th>\n",
       "      <td>trips_in_first_30_days</td>\n",
       "      <td>0</td>\n",
       "      <td>0.000</td>\n",
       "    </tr>\n",
       "    <tr>\n",
       "      <th>10</th>\n",
       "      <td>ultimate_black_user</td>\n",
       "      <td>0</td>\n",
       "      <td>0.000</td>\n",
       "    </tr>\n",
       "    <tr>\n",
       "      <th>11</th>\n",
       "      <td>weekday_pct</td>\n",
       "      <td>0</td>\n",
       "      <td>0.000</td>\n",
       "    </tr>\n",
       "  </tbody>\n",
       "</table>\n",
       "</div>"
      ],
      "text/plain": [
       "                   columns  missing_value  missing_percentage\n",
       "0                 avg_dist              0               0.000\n",
       "1     avg_rating_by_driver            201               0.402\n",
       "2     avg_rating_of_driver           8122              16.244\n",
       "3                avg_surge              0               0.000\n",
       "4                     city              0               0.000\n",
       "5           last_trip_date              0               0.000\n",
       "6                    phone            396               0.792\n",
       "7              signup_date              0               0.000\n",
       "8                surge_pct              0               0.000\n",
       "9   trips_in_first_30_days              0               0.000\n",
       "10     ultimate_black_user              0               0.000\n",
       "11             weekday_pct              0               0.000"
      ]
     },
     "execution_count": 978,
     "metadata": {},
     "output_type": "execute_result"
    }
   ],
   "source": [
    "missing_table  =pd.concat([rt_col, missing_columns], axis = 1)\n",
    "missing_table"
   ]
  },
  {
   "cell_type": "code",
   "execution_count": 979,
   "metadata": {},
   "outputs": [],
   "source": [
    "#Fill missing values: \n",
    "def impute_median(dataframe, col):\n",
    "    \"\"\" Returns missing values in a column with median\"\"\"\n",
    "    return dataframe[col].fillna(dataframe[col].median())"
   ]
  },
  {
   "cell_type": "code",
   "execution_count": 980,
   "metadata": {},
   "outputs": [],
   "source": [
    "#Replacing missing values with Median: \n",
    "rt['avg_rating_of_driver'] =  impute_median(rt, 'avg_rating_of_driver')\n",
    "rt['avg_rating_by_driver'] = impute_median(rt, 'avg_rating_by_driver')\n"
   ]
  },
  {
   "cell_type": "code",
   "execution_count": 981,
   "metadata": {},
   "outputs": [
    {
     "name": "stdout",
     "output_type": "stream",
     "text": [
      "0    iPhone\n",
      "dtype: object\n"
     ]
    }
   ],
   "source": [
    "#Replacing missing phone information with mode:\n",
    "print(rt['phone'].mode())\n",
    "rt['phone'] = rt['phone'].replace(rt[\"phone\"][(rt[\"phone\"].isnull())==True], 'iPhone')"
   ]
  },
  {
   "cell_type": "code",
   "execution_count": 982,
   "metadata": {},
   "outputs": [
    {
     "name": "stdout",
     "output_type": "stream",
     "text": [
      "<class 'pandas.core.frame.DataFrame'>\n",
      "RangeIndex: 50000 entries, 0 to 49999\n",
      "Data columns (total 12 columns):\n",
      "avg_dist                  50000 non-null float64\n",
      "avg_rating_by_driver      50000 non-null float64\n",
      "avg_rating_of_driver      50000 non-null float64\n",
      "avg_surge                 50000 non-null float64\n",
      "city                      50000 non-null object\n",
      "last_trip_date            50000 non-null object\n",
      "phone                     50000 non-null object\n",
      "signup_date               50000 non-null object\n",
      "surge_pct                 50000 non-null float64\n",
      "trips_in_first_30_days    50000 non-null int64\n",
      "ultimate_black_user       50000 non-null bool\n",
      "weekday_pct               50000 non-null float64\n",
      "dtypes: bool(1), float64(6), int64(1), object(4)\n",
      "memory usage: 4.2+ MB\n"
     ]
    }
   ],
   "source": [
    "#Verifying missing values filled: \n",
    "rt.info()"
   ]
  },
  {
   "cell_type": "code",
   "execution_count": 983,
   "metadata": {},
   "outputs": [
    {
     "data": {
      "text/html": [
       "<div>\n",
       "<style scoped>\n",
       "    .dataframe tbody tr th:only-of-type {\n",
       "        vertical-align: middle;\n",
       "    }\n",
       "\n",
       "    .dataframe tbody tr th {\n",
       "        vertical-align: top;\n",
       "    }\n",
       "\n",
       "    .dataframe thead th {\n",
       "        text-align: right;\n",
       "    }\n",
       "</style>\n",
       "<table border=\"1\" class=\"dataframe\">\n",
       "  <thead>\n",
       "    <tr style=\"text-align: right;\">\n",
       "      <th></th>\n",
       "      <th>avg_dist</th>\n",
       "      <th>avg_rating_by_driver</th>\n",
       "      <th>avg_rating_of_driver</th>\n",
       "      <th>avg_surge</th>\n",
       "      <th>city</th>\n",
       "      <th>last_trip_date</th>\n",
       "      <th>phone</th>\n",
       "      <th>signup_date</th>\n",
       "      <th>surge_pct</th>\n",
       "      <th>trips_in_first_30_days</th>\n",
       "      <th>ultimate_black_user</th>\n",
       "      <th>weekday_pct</th>\n",
       "    </tr>\n",
       "  </thead>\n",
       "  <tbody>\n",
       "    <tr>\n",
       "      <th>0</th>\n",
       "      <td>3.67</td>\n",
       "      <td>5.0</td>\n",
       "      <td>4.7</td>\n",
       "      <td>1.10</td>\n",
       "      <td>King's Landing</td>\n",
       "      <td>2014-06-17</td>\n",
       "      <td>iPhone</td>\n",
       "      <td>2014-01-25</td>\n",
       "      <td>15.4</td>\n",
       "      <td>4</td>\n",
       "      <td>True</td>\n",
       "      <td>46.2</td>\n",
       "    </tr>\n",
       "    <tr>\n",
       "      <th>1</th>\n",
       "      <td>8.26</td>\n",
       "      <td>5.0</td>\n",
       "      <td>5.0</td>\n",
       "      <td>1.00</td>\n",
       "      <td>Astapor</td>\n",
       "      <td>2014-05-05</td>\n",
       "      <td>Android</td>\n",
       "      <td>2014-01-29</td>\n",
       "      <td>0.0</td>\n",
       "      <td>0</td>\n",
       "      <td>False</td>\n",
       "      <td>50.0</td>\n",
       "    </tr>\n",
       "    <tr>\n",
       "      <th>2</th>\n",
       "      <td>0.77</td>\n",
       "      <td>5.0</td>\n",
       "      <td>4.3</td>\n",
       "      <td>1.00</td>\n",
       "      <td>Astapor</td>\n",
       "      <td>2014-01-07</td>\n",
       "      <td>iPhone</td>\n",
       "      <td>2014-01-06</td>\n",
       "      <td>0.0</td>\n",
       "      <td>3</td>\n",
       "      <td>False</td>\n",
       "      <td>100.0</td>\n",
       "    </tr>\n",
       "    <tr>\n",
       "      <th>3</th>\n",
       "      <td>2.36</td>\n",
       "      <td>4.9</td>\n",
       "      <td>4.6</td>\n",
       "      <td>1.14</td>\n",
       "      <td>King's Landing</td>\n",
       "      <td>2014-06-29</td>\n",
       "      <td>iPhone</td>\n",
       "      <td>2014-01-10</td>\n",
       "      <td>20.0</td>\n",
       "      <td>9</td>\n",
       "      <td>True</td>\n",
       "      <td>80.0</td>\n",
       "    </tr>\n",
       "    <tr>\n",
       "      <th>4</th>\n",
       "      <td>3.13</td>\n",
       "      <td>4.9</td>\n",
       "      <td>4.4</td>\n",
       "      <td>1.19</td>\n",
       "      <td>Winterfell</td>\n",
       "      <td>2014-03-15</td>\n",
       "      <td>Android</td>\n",
       "      <td>2014-01-27</td>\n",
       "      <td>11.8</td>\n",
       "      <td>14</td>\n",
       "      <td>False</td>\n",
       "      <td>82.4</td>\n",
       "    </tr>\n",
       "  </tbody>\n",
       "</table>\n",
       "</div>"
      ],
      "text/plain": [
       "   avg_dist  avg_rating_by_driver  avg_rating_of_driver  avg_surge  \\\n",
       "0      3.67                   5.0                   4.7       1.10   \n",
       "1      8.26                   5.0                   5.0       1.00   \n",
       "2      0.77                   5.0                   4.3       1.00   \n",
       "3      2.36                   4.9                   4.6       1.14   \n",
       "4      3.13                   4.9                   4.4       1.19   \n",
       "\n",
       "             city last_trip_date    phone signup_date  surge_pct  \\\n",
       "0  King's Landing     2014-06-17   iPhone  2014-01-25       15.4   \n",
       "1         Astapor     2014-05-05  Android  2014-01-29        0.0   \n",
       "2         Astapor     2014-01-07   iPhone  2014-01-06        0.0   \n",
       "3  King's Landing     2014-06-29   iPhone  2014-01-10       20.0   \n",
       "4      Winterfell     2014-03-15  Android  2014-01-27       11.8   \n",
       "\n",
       "   trips_in_first_30_days  ultimate_black_user  weekday_pct  \n",
       "0                       4                 True         46.2  \n",
       "1                       0                False         50.0  \n",
       "2                       3                False        100.0  \n",
       "3                       9                 True         80.0  \n",
       "4                      14                False         82.4  "
      ]
     },
     "execution_count": 983,
     "metadata": {},
     "output_type": "execute_result"
    }
   ],
   "source": [
    "rt.head()"
   ]
  },
  {
   "cell_type": "code",
   "execution_count": 984,
   "metadata": {},
   "outputs": [
    {
     "name": "stdout",
     "output_type": "stream",
     "text": [
      "Maximum delta between last trip and signup date: 181 Days\n"
     ]
    }
   ],
   "source": [
    "#How much time elapsed since signup to last_trip_date?\n",
    "rt['signup_date'] = pd.to_datetime(rt['signup_date'])\n",
    "rt['last_trip_date'] = pd.to_datetime(rt['last_trip_date'])\n",
    "\n",
    "rt['delta_lasttrip_signup_days'] = rt['last_trip_date']-rt['signup_date']\n",
    "rt['delta_lasttrip_signup_days'] = rt['delta_lasttrip_signup_days'].dt.days\n",
    "print('Maximum delta between last trip and signup date:',  rt['delta_lasttrip_signup_days'].max(), 'Days')"
   ]
  },
  {
   "cell_type": "code",
   "execution_count": 985,
   "metadata": {},
   "outputs": [
    {
     "data": {
      "text/html": [
       "<div>\n",
       "<style scoped>\n",
       "    .dataframe tbody tr th:only-of-type {\n",
       "        vertical-align: middle;\n",
       "    }\n",
       "\n",
       "    .dataframe tbody tr th {\n",
       "        vertical-align: top;\n",
       "    }\n",
       "\n",
       "    .dataframe thead th {\n",
       "        text-align: right;\n",
       "    }\n",
       "</style>\n",
       "<table border=\"1\" class=\"dataframe\">\n",
       "  <thead>\n",
       "    <tr style=\"text-align: right;\">\n",
       "      <th></th>\n",
       "      <th>avg_dist</th>\n",
       "      <th>avg_rating_by_driver</th>\n",
       "      <th>avg_rating_of_driver</th>\n",
       "      <th>avg_surge</th>\n",
       "      <th>city</th>\n",
       "      <th>last_trip_date</th>\n",
       "      <th>phone</th>\n",
       "      <th>signup_date</th>\n",
       "      <th>surge_pct</th>\n",
       "      <th>trips_in_first_30_days</th>\n",
       "      <th>ultimate_black_user</th>\n",
       "      <th>weekday_pct</th>\n",
       "      <th>delta_lasttrip_signup_days</th>\n",
       "    </tr>\n",
       "  </thead>\n",
       "  <tbody>\n",
       "    <tr>\n",
       "      <th>0</th>\n",
       "      <td>3.67</td>\n",
       "      <td>5.0</td>\n",
       "      <td>4.7</td>\n",
       "      <td>1.10</td>\n",
       "      <td>King's Landing</td>\n",
       "      <td>2014-06-17</td>\n",
       "      <td>iPhone</td>\n",
       "      <td>2014-01-25</td>\n",
       "      <td>15.4</td>\n",
       "      <td>4</td>\n",
       "      <td>True</td>\n",
       "      <td>46.2</td>\n",
       "      <td>143</td>\n",
       "    </tr>\n",
       "    <tr>\n",
       "      <th>1</th>\n",
       "      <td>8.26</td>\n",
       "      <td>5.0</td>\n",
       "      <td>5.0</td>\n",
       "      <td>1.00</td>\n",
       "      <td>Astapor</td>\n",
       "      <td>2014-05-05</td>\n",
       "      <td>Android</td>\n",
       "      <td>2014-01-29</td>\n",
       "      <td>0.0</td>\n",
       "      <td>0</td>\n",
       "      <td>False</td>\n",
       "      <td>50.0</td>\n",
       "      <td>96</td>\n",
       "    </tr>\n",
       "    <tr>\n",
       "      <th>2</th>\n",
       "      <td>0.77</td>\n",
       "      <td>5.0</td>\n",
       "      <td>4.3</td>\n",
       "      <td>1.00</td>\n",
       "      <td>Astapor</td>\n",
       "      <td>2014-01-07</td>\n",
       "      <td>iPhone</td>\n",
       "      <td>2014-01-06</td>\n",
       "      <td>0.0</td>\n",
       "      <td>3</td>\n",
       "      <td>False</td>\n",
       "      <td>100.0</td>\n",
       "      <td>1</td>\n",
       "    </tr>\n",
       "    <tr>\n",
       "      <th>3</th>\n",
       "      <td>2.36</td>\n",
       "      <td>4.9</td>\n",
       "      <td>4.6</td>\n",
       "      <td>1.14</td>\n",
       "      <td>King's Landing</td>\n",
       "      <td>2014-06-29</td>\n",
       "      <td>iPhone</td>\n",
       "      <td>2014-01-10</td>\n",
       "      <td>20.0</td>\n",
       "      <td>9</td>\n",
       "      <td>True</td>\n",
       "      <td>80.0</td>\n",
       "      <td>170</td>\n",
       "    </tr>\n",
       "    <tr>\n",
       "      <th>4</th>\n",
       "      <td>3.13</td>\n",
       "      <td>4.9</td>\n",
       "      <td>4.4</td>\n",
       "      <td>1.19</td>\n",
       "      <td>Winterfell</td>\n",
       "      <td>2014-03-15</td>\n",
       "      <td>Android</td>\n",
       "      <td>2014-01-27</td>\n",
       "      <td>11.8</td>\n",
       "      <td>14</td>\n",
       "      <td>False</td>\n",
       "      <td>82.4</td>\n",
       "      <td>47</td>\n",
       "    </tr>\n",
       "  </tbody>\n",
       "</table>\n",
       "</div>"
      ],
      "text/plain": [
       "   avg_dist  avg_rating_by_driver  avg_rating_of_driver  avg_surge  \\\n",
       "0      3.67                   5.0                   4.7       1.10   \n",
       "1      8.26                   5.0                   5.0       1.00   \n",
       "2      0.77                   5.0                   4.3       1.00   \n",
       "3      2.36                   4.9                   4.6       1.14   \n",
       "4      3.13                   4.9                   4.4       1.19   \n",
       "\n",
       "             city last_trip_date    phone signup_date  surge_pct  \\\n",
       "0  King's Landing     2014-06-17   iPhone  2014-01-25       15.4   \n",
       "1         Astapor     2014-05-05  Android  2014-01-29        0.0   \n",
       "2         Astapor     2014-01-07   iPhone  2014-01-06        0.0   \n",
       "3  King's Landing     2014-06-29   iPhone  2014-01-10       20.0   \n",
       "4      Winterfell     2014-03-15  Android  2014-01-27       11.8   \n",
       "\n",
       "   trips_in_first_30_days  ultimate_black_user  weekday_pct  \\\n",
       "0                       4                 True         46.2   \n",
       "1                       0                False         50.0   \n",
       "2                       3                False        100.0   \n",
       "3                       9                 True         80.0   \n",
       "4                      14                False         82.4   \n",
       "\n",
       "   delta_lasttrip_signup_days  \n",
       "0                         143  \n",
       "1                          96  \n",
       "2                           1  \n",
       "3                         170  \n",
       "4                          47  "
      ]
     },
     "execution_count": 985,
     "metadata": {},
     "output_type": "execute_result"
    }
   ],
   "source": [
    "rt.head()"
   ]
  },
  {
   "cell_type": "code",
   "execution_count": 986,
   "metadata": {},
   "outputs": [],
   "source": [
    "#What is the trip activity like in the first 30 days since sign up?\n",
    "trip_summary_first_30_days = rt.groupby(rt['delta_lasttrip_signup_days'][(rt['delta_lasttrip_signup_days']<=30) == True])['trips_in_first_30_days'].agg({'trip_summary_first_30_days': ['min', 'max', 'count']})"
   ]
  },
  {
   "cell_type": "code",
   "execution_count": 987,
   "metadata": {},
   "outputs": [],
   "source": [
    "#What is the trip activity like after 30 days since sign up?\n",
    "trip_summary_after_30_days = rt.groupby(rt['delta_lasttrip_signup_days'][(rt['delta_lasttrip_signup_days']>30) == True])['trips_in_first_30_days'].agg({'trip_summary_after_30_days': ['min', 'max', 'count']})"
   ]
  },
  {
   "cell_type": "code",
   "execution_count": 988,
   "metadata": {},
   "outputs": [
    {
     "name": "stdout",
     "output_type": "stream",
     "text": [
      "Trip summary first few days after sign up and few days after a month of sign \n",
      ":                            trip_summary_first_30_days          \n",
      "                                                  min max count\n",
      "delta_lasttrip_signup_days                                     \n",
      "0.0                                                 1   5  2302\n",
      "1.0                                                 1   7  4374\n",
      "2.0                                                 1  11  1063\n",
      "3.0                                                 1  17   595\n",
      "4.0                                                 1  17   433 \n",
      "                            trip_summary_after_30_days          \n",
      "                                                  min max count\n",
      "delta_lasttrip_signup_days                                     \n",
      "31.0                                                0  17   111\n",
      "32.0                                                0  16   106\n",
      "33.0                                                0  12   106\n",
      "34.0                                                0  23   128\n",
      "35.0                                                0  26   149\n",
      "Summary Statistics:\n",
      "       trip_summary_first_30_days                        \n",
      "                             min        max        count\n",
      "count                       31.0  31.000000    31.000000\n",
      "mean                         1.0  17.838710   420.225806\n",
      "std                          0.0   6.481238   844.403170\n",
      "min                          1.0   5.000000   104.000000\n",
      "25%                          1.0  14.500000   144.000000\n",
      "50%                          1.0  17.000000   156.000000\n",
      "75%                          1.0  19.500000   236.000000\n",
      "max                          1.0  33.000000  4374.000000 \n",
      "       trip_summary_after_30_days                        \n",
      "                             min         max       count\n",
      "count                      151.0  151.000000  151.000000\n",
      "mean                         0.0   28.496689  244.854305\n",
      "std                          0.0   15.658810  140.974721\n",
      "min                          0.0    8.000000   13.000000\n",
      "25%                          0.0   17.000000  142.500000\n",
      "50%                          0.0   24.000000  194.000000\n",
      "75%                          0.0   37.000000  310.500000\n",
      "max                          0.0  125.000000  756.000000\n"
     ]
    }
   ],
   "source": [
    "print('Trip summary first few days after sign up and few days after a month of sign \\n:',trip_summary_first_30_days.head(), '\\n', trip_summary_after_30_days.head())\n",
    "print('Summary Statistics:\\n',trip_summary_first_30_days.describe(),'\\n', trip_summary_after_30_days.describe())"
   ]
  },
  {
   "cell_type": "markdown",
   "metadata": {},
   "source": [
    "#### Observation: \n",
    "1. Same day, out of 2302 trips, maximum last trips taken were 5 while minimum was 1. \n",
    "2. On 31st day, out of 111 trips, maximum last trips taken were 17 while minimum was 0. \n",
    "\n",
    "This shows that after 30 days of sign up minimum trip activity was zero and likely all trips were taken during the first 30 days after sign up.  \n",
    "This will be an important indicator for ultimate to plan their marketing initiatives as well as do resource management. "
   ]
  },
  {
   "cell_type": "markdown",
   "metadata": {},
   "source": [
    "#### What fraction of user were retained in the last 30 days? "
   ]
  },
  {
   "cell_type": "code",
   "execution_count": 989,
   "metadata": {},
   "outputs": [
    {
     "data": {
      "text/plain": [
       "Timestamp('2014-07-01 00:00:00')"
      ]
     },
     "execution_count": 989,
     "metadata": {},
     "output_type": "execute_result"
    }
   ],
   "source": [
    "\n",
    "#Period ended: \n",
    "rt['last_trip_date'].max()"
   ]
  },
  {
   "cell_type": "code",
   "execution_count": 990,
   "metadata": {},
   "outputs": [],
   "source": [
    "fraction_retained = (rt['last_trip_date'] >= '2014-06-01').sum()/ (rt['last_trip_date'] >= '2014-06-01').count()"
   ]
  },
  {
   "cell_type": "code",
   "execution_count": 991,
   "metadata": {},
   "outputs": [
    {
     "name": "stdout",
     "output_type": "stream",
     "text": [
      "Percent Retained: 37.61\n"
     ]
    }
   ],
   "source": [
    "print(\"Percent Retained:\",round(fraction_retained *100,2))"
   ]
  },
  {
   "cell_type": "code",
   "execution_count": 992,
   "metadata": {},
   "outputs": [],
   "source": [
    "#Create new column user retained: \n",
    "\n",
    "rt['user_retained'] = (rt['last_trip_date'] >= '2014-06-01') *1"
   ]
  },
  {
   "cell_type": "code",
   "execution_count": 993,
   "metadata": {},
   "outputs": [
    {
     "data": {
      "text/html": [
       "<div>\n",
       "<style scoped>\n",
       "    .dataframe tbody tr th:only-of-type {\n",
       "        vertical-align: middle;\n",
       "    }\n",
       "\n",
       "    .dataframe tbody tr th {\n",
       "        vertical-align: top;\n",
       "    }\n",
       "\n",
       "    .dataframe thead th {\n",
       "        text-align: right;\n",
       "    }\n",
       "</style>\n",
       "<table border=\"1\" class=\"dataframe\">\n",
       "  <thead>\n",
       "    <tr style=\"text-align: right;\">\n",
       "      <th></th>\n",
       "      <th>avg_dist</th>\n",
       "      <th>avg_rating_by_driver</th>\n",
       "      <th>avg_rating_of_driver</th>\n",
       "      <th>avg_surge</th>\n",
       "      <th>surge_pct</th>\n",
       "      <th>trips_in_first_30_days</th>\n",
       "      <th>weekday_pct</th>\n",
       "      <th>delta_lasttrip_signup_days</th>\n",
       "      <th>user_retained</th>\n",
       "    </tr>\n",
       "  </thead>\n",
       "  <tbody>\n",
       "    <tr>\n",
       "      <th>count</th>\n",
       "      <td>50000.000000</td>\n",
       "      <td>50000.000000</td>\n",
       "      <td>50000.000000</td>\n",
       "      <td>50000.000000</td>\n",
       "      <td>50000.000000</td>\n",
       "      <td>50000.000000</td>\n",
       "      <td>50000.000000</td>\n",
       "      <td>50000.000000</td>\n",
       "      <td>50000.000000</td>\n",
       "    </tr>\n",
       "    <tr>\n",
       "      <th>mean</th>\n",
       "      <td>5.796827</td>\n",
       "      <td>4.779050</td>\n",
       "      <td>4.650038</td>\n",
       "      <td>1.074764</td>\n",
       "      <td>8.849536</td>\n",
       "      <td>2.278200</td>\n",
       "      <td>60.926084</td>\n",
       "      <td>92.790100</td>\n",
       "      <td>0.376080</td>\n",
       "    </tr>\n",
       "    <tr>\n",
       "      <th>std</th>\n",
       "      <td>5.707357</td>\n",
       "      <td>0.445974</td>\n",
       "      <td>0.575601</td>\n",
       "      <td>0.222336</td>\n",
       "      <td>19.958811</td>\n",
       "      <td>3.792684</td>\n",
       "      <td>37.081503</td>\n",
       "      <td>62.129822</td>\n",
       "      <td>0.484405</td>\n",
       "    </tr>\n",
       "    <tr>\n",
       "      <th>min</th>\n",
       "      <td>0.000000</td>\n",
       "      <td>1.000000</td>\n",
       "      <td>1.000000</td>\n",
       "      <td>1.000000</td>\n",
       "      <td>0.000000</td>\n",
       "      <td>0.000000</td>\n",
       "      <td>0.000000</td>\n",
       "      <td>0.000000</td>\n",
       "      <td>0.000000</td>\n",
       "    </tr>\n",
       "    <tr>\n",
       "      <th>25%</th>\n",
       "      <td>2.420000</td>\n",
       "      <td>4.700000</td>\n",
       "      <td>4.500000</td>\n",
       "      <td>1.000000</td>\n",
       "      <td>0.000000</td>\n",
       "      <td>0.000000</td>\n",
       "      <td>33.300000</td>\n",
       "      <td>27.000000</td>\n",
       "      <td>0.000000</td>\n",
       "    </tr>\n",
       "    <tr>\n",
       "      <th>50%</th>\n",
       "      <td>3.880000</td>\n",
       "      <td>5.000000</td>\n",
       "      <td>4.900000</td>\n",
       "      <td>1.000000</td>\n",
       "      <td>0.000000</td>\n",
       "      <td>1.000000</td>\n",
       "      <td>66.700000</td>\n",
       "      <td>110.000000</td>\n",
       "      <td>0.000000</td>\n",
       "    </tr>\n",
       "    <tr>\n",
       "      <th>75%</th>\n",
       "      <td>6.940000</td>\n",
       "      <td>5.000000</td>\n",
       "      <td>5.000000</td>\n",
       "      <td>1.050000</td>\n",
       "      <td>8.600000</td>\n",
       "      <td>3.000000</td>\n",
       "      <td>100.000000</td>\n",
       "      <td>150.000000</td>\n",
       "      <td>1.000000</td>\n",
       "    </tr>\n",
       "    <tr>\n",
       "      <th>max</th>\n",
       "      <td>160.960000</td>\n",
       "      <td>5.000000</td>\n",
       "      <td>5.000000</td>\n",
       "      <td>8.000000</td>\n",
       "      <td>100.000000</td>\n",
       "      <td>125.000000</td>\n",
       "      <td>100.000000</td>\n",
       "      <td>181.000000</td>\n",
       "      <td>1.000000</td>\n",
       "    </tr>\n",
       "  </tbody>\n",
       "</table>\n",
       "</div>"
      ],
      "text/plain": [
       "           avg_dist  avg_rating_by_driver  avg_rating_of_driver     avg_surge  \\\n",
       "count  50000.000000          50000.000000          50000.000000  50000.000000   \n",
       "mean       5.796827              4.779050              4.650038      1.074764   \n",
       "std        5.707357              0.445974              0.575601      0.222336   \n",
       "min        0.000000              1.000000              1.000000      1.000000   \n",
       "25%        2.420000              4.700000              4.500000      1.000000   \n",
       "50%        3.880000              5.000000              4.900000      1.000000   \n",
       "75%        6.940000              5.000000              5.000000      1.050000   \n",
       "max      160.960000              5.000000              5.000000      8.000000   \n",
       "\n",
       "          surge_pct  trips_in_first_30_days   weekday_pct  \\\n",
       "count  50000.000000            50000.000000  50000.000000   \n",
       "mean       8.849536                2.278200     60.926084   \n",
       "std       19.958811                3.792684     37.081503   \n",
       "min        0.000000                0.000000      0.000000   \n",
       "25%        0.000000                0.000000     33.300000   \n",
       "50%        0.000000                1.000000     66.700000   \n",
       "75%        8.600000                3.000000    100.000000   \n",
       "max      100.000000              125.000000    100.000000   \n",
       "\n",
       "       delta_lasttrip_signup_days  user_retained  \n",
       "count                50000.000000   50000.000000  \n",
       "mean                    92.790100       0.376080  \n",
       "std                     62.129822       0.484405  \n",
       "min                      0.000000       0.000000  \n",
       "25%                     27.000000       0.000000  \n",
       "50%                    110.000000       0.000000  \n",
       "75%                    150.000000       1.000000  \n",
       "max                    181.000000       1.000000  "
      ]
     },
     "execution_count": 993,
     "metadata": {},
     "output_type": "execute_result"
    }
   ],
   "source": [
    "rt.describe()"
   ]
  },
  {
   "cell_type": "markdown",
   "metadata": {},
   "source": [
    "#### Correlation between input features:"
   ]
  },
  {
   "cell_type": "code",
   "execution_count": 994,
   "metadata": {},
   "outputs": [
    {
     "data": {
      "text/plain": [
       "<matplotlib.axes._subplots.AxesSubplot at 0x7ffacf887860>"
      ]
     },
     "execution_count": 994,
     "metadata": {},
     "output_type": "execute_result"
    },
    {
     "data": {
      "image/png": "[encoded data removed]",
      "text/plain": [
       "<Figure size 1080x720 with 2 Axes>"
      ]
     },
     "metadata": {
      "needs_background": "light"
     },
     "output_type": "display_data"
    }
   ],
   "source": [
    "_ = plt.figure(figsize = (15,10))\n",
    "sns.heatmap(rt.corr(), annot = True)"
   ]
  },
  {
   "cell_type": "markdown",
   "metadata": {},
   "source": [
    "#### Observation: \n",
    "1. avg_surge is positively correlated to surge_pct\n",
    "2. Delta_lasttrip_signup_days is correlated to user_retained. "
   ]
  },
  {
   "cell_type": "code",
   "execution_count": 995,
   "metadata": {},
   "outputs": [
    {
     "data": {
      "text/html": [
       "<div>\n",
       "<style scoped>\n",
       "    .dataframe tbody tr th:only-of-type {\n",
       "        vertical-align: middle;\n",
       "    }\n",
       "\n",
       "    .dataframe tbody tr th {\n",
       "        vertical-align: top;\n",
       "    }\n",
       "\n",
       "    .dataframe thead th {\n",
       "        text-align: right;\n",
       "    }\n",
       "</style>\n",
       "<table border=\"1\" class=\"dataframe\">\n",
       "  <thead>\n",
       "    <tr style=\"text-align: right;\">\n",
       "      <th></th>\n",
       "      <th>avg_dist</th>\n",
       "      <th>avg_rating_by_driver</th>\n",
       "      <th>avg_rating_of_driver</th>\n",
       "      <th>avg_surge</th>\n",
       "      <th>city</th>\n",
       "      <th>last_trip_date</th>\n",
       "      <th>phone</th>\n",
       "      <th>signup_date</th>\n",
       "      <th>surge_pct</th>\n",
       "      <th>trips_in_first_30_days</th>\n",
       "      <th>ultimate_black_user</th>\n",
       "      <th>weekday_pct</th>\n",
       "      <th>delta_lasttrip_signup_days</th>\n",
       "      <th>user_retained</th>\n",
       "    </tr>\n",
       "  </thead>\n",
       "  <tbody>\n",
       "    <tr>\n",
       "      <th>0</th>\n",
       "      <td>3.67</td>\n",
       "      <td>5.0</td>\n",
       "      <td>4.7</td>\n",
       "      <td>1.10</td>\n",
       "      <td>King's Landing</td>\n",
       "      <td>2014-06-17</td>\n",
       "      <td>iPhone</td>\n",
       "      <td>2014-01-25</td>\n",
       "      <td>15.4</td>\n",
       "      <td>4</td>\n",
       "      <td>True</td>\n",
       "      <td>46.2</td>\n",
       "      <td>143</td>\n",
       "      <td>1</td>\n",
       "    </tr>\n",
       "    <tr>\n",
       "      <th>1</th>\n",
       "      <td>8.26</td>\n",
       "      <td>5.0</td>\n",
       "      <td>5.0</td>\n",
       "      <td>1.00</td>\n",
       "      <td>Astapor</td>\n",
       "      <td>2014-05-05</td>\n",
       "      <td>Android</td>\n",
       "      <td>2014-01-29</td>\n",
       "      <td>0.0</td>\n",
       "      <td>0</td>\n",
       "      <td>False</td>\n",
       "      <td>50.0</td>\n",
       "      <td>96</td>\n",
       "      <td>0</td>\n",
       "    </tr>\n",
       "    <tr>\n",
       "      <th>2</th>\n",
       "      <td>0.77</td>\n",
       "      <td>5.0</td>\n",
       "      <td>4.3</td>\n",
       "      <td>1.00</td>\n",
       "      <td>Astapor</td>\n",
       "      <td>2014-01-07</td>\n",
       "      <td>iPhone</td>\n",
       "      <td>2014-01-06</td>\n",
       "      <td>0.0</td>\n",
       "      <td>3</td>\n",
       "      <td>False</td>\n",
       "      <td>100.0</td>\n",
       "      <td>1</td>\n",
       "      <td>0</td>\n",
       "    </tr>\n",
       "    <tr>\n",
       "      <th>3</th>\n",
       "      <td>2.36</td>\n",
       "      <td>4.9</td>\n",
       "      <td>4.6</td>\n",
       "      <td>1.14</td>\n",
       "      <td>King's Landing</td>\n",
       "      <td>2014-06-29</td>\n",
       "      <td>iPhone</td>\n",
       "      <td>2014-01-10</td>\n",
       "      <td>20.0</td>\n",
       "      <td>9</td>\n",
       "      <td>True</td>\n",
       "      <td>80.0</td>\n",
       "      <td>170</td>\n",
       "      <td>1</td>\n",
       "    </tr>\n",
       "    <tr>\n",
       "      <th>4</th>\n",
       "      <td>3.13</td>\n",
       "      <td>4.9</td>\n",
       "      <td>4.4</td>\n",
       "      <td>1.19</td>\n",
       "      <td>Winterfell</td>\n",
       "      <td>2014-03-15</td>\n",
       "      <td>Android</td>\n",
       "      <td>2014-01-27</td>\n",
       "      <td>11.8</td>\n",
       "      <td>14</td>\n",
       "      <td>False</td>\n",
       "      <td>82.4</td>\n",
       "      <td>47</td>\n",
       "      <td>0</td>\n",
       "    </tr>\n",
       "  </tbody>\n",
       "</table>\n",
       "</div>"
      ],
      "text/plain": [
       "   avg_dist  avg_rating_by_driver  avg_rating_of_driver  avg_surge  \\\n",
       "0      3.67                   5.0                   4.7       1.10   \n",
       "1      8.26                   5.0                   5.0       1.00   \n",
       "2      0.77                   5.0                   4.3       1.00   \n",
       "3      2.36                   4.9                   4.6       1.14   \n",
       "4      3.13                   4.9                   4.4       1.19   \n",
       "\n",
       "             city last_trip_date    phone signup_date  surge_pct  \\\n",
       "0  King's Landing     2014-06-17   iPhone  2014-01-25       15.4   \n",
       "1         Astapor     2014-05-05  Android  2014-01-29        0.0   \n",
       "2         Astapor     2014-01-07   iPhone  2014-01-06        0.0   \n",
       "3  King's Landing     2014-06-29   iPhone  2014-01-10       20.0   \n",
       "4      Winterfell     2014-03-15  Android  2014-01-27       11.8   \n",
       "\n",
       "   trips_in_first_30_days  ultimate_black_user  weekday_pct  \\\n",
       "0                       4                 True         46.2   \n",
       "1                       0                False         50.0   \n",
       "2                       3                False        100.0   \n",
       "3                       9                 True         80.0   \n",
       "4                      14                False         82.4   \n",
       "\n",
       "   delta_lasttrip_signup_days  user_retained  \n",
       "0                         143              1  \n",
       "1                          96              0  \n",
       "2                           1              0  \n",
       "3                         170              1  \n",
       "4                          47              0  "
      ]
     },
     "execution_count": 995,
     "metadata": {},
     "output_type": "execute_result"
    }
   ],
   "source": [
    "rt.head()"
   ]
  },
  {
   "cell_type": "markdown",
   "metadata": {},
   "source": [
    "#### Data Visualization"
   ]
  },
  {
   "cell_type": "code",
   "execution_count": 996,
   "metadata": {},
   "outputs": [],
   "source": [
    "#Phone users per city:\n",
    "phone_users_city = rt.groupby('phone')['city'].value_counts().unstack()#"
   ]
  },
  {
   "cell_type": "code",
   "execution_count": 997,
   "metadata": {},
   "outputs": [
    {
     "data": {
      "text/plain": [
       "<matplotlib.axes._subplots.AxesSubplot at 0x7ffb0cec0b38>"
      ]
     },
     "execution_count": 997,
     "metadata": {},
     "output_type": "execute_result"
    },
    {
     "data": {
      "image/png": "[encoded data removed]",
      "text/plain": [
       "<Figure size 1080x720 with 1 Axes>"
      ]
     },
     "metadata": {
      "needs_background": "light"
     },
     "output_type": "display_data"
    }
   ],
   "source": [
    "phone_users_city.stack().sort_values(ascending = True).plot('barh', figsize = (15,10))"
   ]
  },
  {
   "cell_type": "code",
   "execution_count": 998,
   "metadata": {},
   "outputs": [
    {
     "data": {
      "image/png": "[encoded data removed]",
      "text/plain": [
       "<Figure size 1440x576 with 4 Axes>"
      ]
     },
     "metadata": {
      "needs_background": "light"
     },
     "output_type": "display_data"
    }
   ],
   "source": [
    "_ = plt.figure(figsize = (20,8))\n",
    "_ = plt.suptitle(\"City Vs Various Input Variables\\n\", y=1, fontsize = 15)\n",
    "plt.subplot(2,2,1)\n",
    "sns.barplot(x = 'avg_dist', y = 'city', data = rt, hue = 'ultimate_black_user', palette='Set1')\n",
    "_ = plt.legend(title = 'ultimate_black_user',loc = 'upper right')\n",
    "\n",
    "plt.subplot(2,2,2)\n",
    "sns.barplot(x = 'avg_rating_of_driver', y = 'city', data = rt, hue = 'ultimate_black_user', palette='Set1')\n",
    "_ = plt.legend(title = 'ultimate_black_user',loc = 'upper right')\n",
    "\n",
    "plt.subplot(2,2,3)            \n",
    "sns.barplot(x = 'avg_surge', y = 'city', data = rt, hue = 'ultimate_black_user', palette='Set2')\n",
    "_ = plt.legend(title = 'ultimate_black_user',loc = 'upper right')\n",
    "\n",
    "plt.subplot(2,2,4)             \n",
    "sns.barplot(x = 'weekday_pct', y = 'city', data = rt, hue = 'ultimate_black_user', palette='Set2')\n",
    "_ = plt.legend(title = 'ultimate_black_user',loc = 'upper right')"
   ]
  },
  {
   "cell_type": "markdown",
   "metadata": {},
   "source": [
    "#### Observation: \n",
    "1. iphone winterfell had highest users.\n",
    "2. Average distance traveled by Ultimate black users in Winterfell is higher.\n",
    "3. Average Rating of driver is highest in King's Landing.\n",
    "4. Astapor recorded highest average surge for white users.\n",
    "5. Weekday percent change was highest in King's landing for black users.  "
   ]
  },
  {
   "cell_type": "markdown",
   "metadata": {},
   "source": [
    "#### Predictive Modeling: "
   ]
  },
  {
   "cell_type": "code",
   "execution_count": 999,
   "metadata": {},
   "outputs": [
    {
     "name": "stdout",
     "output_type": "stream",
     "text": [
      "<class 'pandas.core.frame.DataFrame'>\n",
      "RangeIndex: 50000 entries, 0 to 49999\n",
      "Data columns (total 14 columns):\n",
      "avg_dist                      50000 non-null float64\n",
      "avg_rating_by_driver          50000 non-null float64\n",
      "avg_rating_of_driver          50000 non-null float64\n",
      "avg_surge                     50000 non-null float64\n",
      "city                          50000 non-null object\n",
      "last_trip_date                50000 non-null datetime64[ns]\n",
      "phone                         50000 non-null object\n",
      "signup_date                   50000 non-null datetime64[ns]\n",
      "surge_pct                     50000 non-null float64\n",
      "trips_in_first_30_days        50000 non-null int64\n",
      "ultimate_black_user           50000 non-null bool\n",
      "weekday_pct                   50000 non-null float64\n",
      "delta_lasttrip_signup_days    50000 non-null int64\n",
      "user_retained                 50000 non-null int64\n",
      "dtypes: bool(1), datetime64[ns](2), float64(6), int64(3), object(2)\n",
      "memory usage: 5.0+ MB\n",
      "(50000, 14)\n"
     ]
    }
   ],
   "source": [
    "rt.info()\n",
    "print(rt.shape)"
   ]
  },
  {
   "cell_type": "code",
   "execution_count": 1008,
   "metadata": {},
   "outputs": [],
   "source": [
    "#Drop columns: \n",
    "drop_col = ['last_trip_date', 'signup_date', 'surge_pct', 'delta_lasttrip_signup_days']\n",
    "\n",
    "rt_drop =rt.drop(columns=drop_col, axis =1)"
   ]
  },
  {
   "cell_type": "code",
   "execution_count": 1009,
   "metadata": {},
   "outputs": [
    {
     "data": {
      "text/plain": [
       "(50000, 10)"
      ]
     },
     "execution_count": 1009,
     "metadata": {},
     "output_type": "execute_result"
    }
   ],
   "source": [
    "rt_drop.shape"
   ]
  },
  {
   "cell_type": "code",
   "execution_count": 1010,
   "metadata": {},
   "outputs": [],
   "source": [
    "#Convert categorical values to numeric: \n",
    "cat_col = ['city', 'phone', 'ultimate_black_user']\n",
    "\n",
    "rt_model =pd.get_dummies(data = rt_drop, columns = cat_col, drop_first=True)"
   ]
  },
  {
   "cell_type": "code",
   "execution_count": 1011,
   "metadata": {},
   "outputs": [
    {
     "data": {
      "text/html": [
       "<div>\n",
       "<style scoped>\n",
       "    .dataframe tbody tr th:only-of-type {\n",
       "        vertical-align: middle;\n",
       "    }\n",
       "\n",
       "    .dataframe tbody tr th {\n",
       "        vertical-align: top;\n",
       "    }\n",
       "\n",
       "    .dataframe thead th {\n",
       "        text-align: right;\n",
       "    }\n",
       "</style>\n",
       "<table border=\"1\" class=\"dataframe\">\n",
       "  <thead>\n",
       "    <tr style=\"text-align: right;\">\n",
       "      <th></th>\n",
       "      <th>avg_dist</th>\n",
       "      <th>avg_rating_by_driver</th>\n",
       "      <th>avg_rating_of_driver</th>\n",
       "      <th>avg_surge</th>\n",
       "      <th>trips_in_first_30_days</th>\n",
       "      <th>weekday_pct</th>\n",
       "      <th>user_retained</th>\n",
       "      <th>city_King's Landing</th>\n",
       "      <th>city_Winterfell</th>\n",
       "      <th>phone_iPhone</th>\n",
       "      <th>ultimate_black_user_True</th>\n",
       "    </tr>\n",
       "  </thead>\n",
       "  <tbody>\n",
       "    <tr>\n",
       "      <th>0</th>\n",
       "      <td>3.67</td>\n",
       "      <td>5.0</td>\n",
       "      <td>4.7</td>\n",
       "      <td>1.10</td>\n",
       "      <td>4</td>\n",
       "      <td>46.2</td>\n",
       "      <td>1</td>\n",
       "      <td>1</td>\n",
       "      <td>0</td>\n",
       "      <td>1</td>\n",
       "      <td>1</td>\n",
       "    </tr>\n",
       "    <tr>\n",
       "      <th>1</th>\n",
       "      <td>8.26</td>\n",
       "      <td>5.0</td>\n",
       "      <td>5.0</td>\n",
       "      <td>1.00</td>\n",
       "      <td>0</td>\n",
       "      <td>50.0</td>\n",
       "      <td>0</td>\n",
       "      <td>0</td>\n",
       "      <td>0</td>\n",
       "      <td>0</td>\n",
       "      <td>0</td>\n",
       "    </tr>\n",
       "    <tr>\n",
       "      <th>2</th>\n",
       "      <td>0.77</td>\n",
       "      <td>5.0</td>\n",
       "      <td>4.3</td>\n",
       "      <td>1.00</td>\n",
       "      <td>3</td>\n",
       "      <td>100.0</td>\n",
       "      <td>0</td>\n",
       "      <td>0</td>\n",
       "      <td>0</td>\n",
       "      <td>1</td>\n",
       "      <td>0</td>\n",
       "    </tr>\n",
       "    <tr>\n",
       "      <th>3</th>\n",
       "      <td>2.36</td>\n",
       "      <td>4.9</td>\n",
       "      <td>4.6</td>\n",
       "      <td>1.14</td>\n",
       "      <td>9</td>\n",
       "      <td>80.0</td>\n",
       "      <td>1</td>\n",
       "      <td>1</td>\n",
       "      <td>0</td>\n",
       "      <td>1</td>\n",
       "      <td>1</td>\n",
       "    </tr>\n",
       "    <tr>\n",
       "      <th>4</th>\n",
       "      <td>3.13</td>\n",
       "      <td>4.9</td>\n",
       "      <td>4.4</td>\n",
       "      <td>1.19</td>\n",
       "      <td>14</td>\n",
       "      <td>82.4</td>\n",
       "      <td>0</td>\n",
       "      <td>0</td>\n",
       "      <td>1</td>\n",
       "      <td>0</td>\n",
       "      <td>0</td>\n",
       "    </tr>\n",
       "  </tbody>\n",
       "</table>\n",
       "</div>"
      ],
      "text/plain": [
       "   avg_dist  avg_rating_by_driver  avg_rating_of_driver  avg_surge  \\\n",
       "0      3.67                   5.0                   4.7       1.10   \n",
       "1      8.26                   5.0                   5.0       1.00   \n",
       "2      0.77                   5.0                   4.3       1.00   \n",
       "3      2.36                   4.9                   4.6       1.14   \n",
       "4      3.13                   4.9                   4.4       1.19   \n",
       "\n",
       "   trips_in_first_30_days  weekday_pct  user_retained  city_King's Landing  \\\n",
       "0                       4         46.2              1                    1   \n",
       "1                       0         50.0              0                    0   \n",
       "2                       3        100.0              0                    0   \n",
       "3                       9         80.0              1                    1   \n",
       "4                      14         82.4              0                    0   \n",
       "\n",
       "   city_Winterfell  phone_iPhone  ultimate_black_user_True  \n",
       "0                0             1                         1  \n",
       "1                0             0                         0  \n",
       "2                0             1                         0  \n",
       "3                0             1                         1  \n",
       "4                1             0                         0  "
      ]
     },
     "execution_count": 1011,
     "metadata": {},
     "output_type": "execute_result"
    }
   ],
   "source": [
    "rt_model.head()"
   ]
  },
  {
   "cell_type": "code",
   "execution_count": 897,
   "metadata": {},
   "outputs": [],
   "source": [
    "#rt_model =pd.concat([rt_drop, rt_cat],axis =1).drop(cat_col, axis =1)\n",
    "#rt_model.head()"
   ]
  },
  {
   "cell_type": "code",
   "execution_count": 1012,
   "metadata": {},
   "outputs": [],
   "source": [
    "X = rt_model.drop('user_retained', axis =1)\n",
    "y = rt_model['user_retained']"
   ]
  },
  {
   "cell_type": "code",
   "execution_count": 1013,
   "metadata": {},
   "outputs": [
    {
     "data": {
      "text/plain": [
       "((50000, 10), (50000,))"
      ]
     },
     "execution_count": 1013,
     "metadata": {},
     "output_type": "execute_result"
    }
   ],
   "source": [
    " X.shape, y.shape"
   ]
  },
  {
   "cell_type": "code",
   "execution_count": 1258,
   "metadata": {},
   "outputs": [],
   "source": [
    "#Import Packages: \n",
    "\n",
    "from sklearn.ensemble import RandomForestClassifier\n",
    "from sklearn.linear_model import LogisticRegression \n",
    "from sklearn.svm import SVC\n",
    "from sklearn.model_selection import train_test_split, GridSearchCV, cross_val_score, RandomizedSearchCV\n",
    "from sklearn.preprocessing import StandardScaler\n",
    "from sklearn.metrics import classification_report, confusion_matrix, accuracy_score, roc_auc_score, roc_curve"
   ]
  },
  {
   "cell_type": "code",
   "execution_count": 1095,
   "metadata": {},
   "outputs": [],
   "source": [
    "nl = StandardScaler()\n",
    "X_std = nl.fit_transform(X)\n",
    "X_train, X_test, y_train, y_test = train_test_split(X_std,y, test_size = 0.2, random_state =123)"
   ]
  },
  {
   "cell_type": "code",
   "execution_count": 1096,
   "metadata": {},
   "outputs": [
    {
     "data": {
      "text/plain": [
       "((40000, 10), (10000, 10), (40000,), (10000,))"
      ]
     },
     "execution_count": 1096,
     "metadata": {},
     "output_type": "execute_result"
    }
   ],
   "source": [
    "X_train.shape, X_test.shape, y_train.shape, y_test.shape"
   ]
  },
  {
   "cell_type": "markdown",
   "metadata": {},
   "source": [
    "#### Logistics Regression: "
   ]
  },
  {
   "cell_type": "code",
   "execution_count": 1176,
   "metadata": {},
   "outputs": [
    {
     "name": "stdout",
     "output_type": "stream",
     "text": [
      "{'penalty': 'l1'}\n"
     ]
    }
   ],
   "source": [
    "#Initiate\n",
    "lr = LogisticRegression(random_state = 12)\n",
    "\n",
    "#Grid search:\n",
    "param = {'penalty': ['l1','l2']}  # l1 lasso regularization\n",
    "                                  #l2 ridge regularization  \n",
    "gr_lr = GridSearchCV(lr, param_grid=param, cv = 5)\n",
    "\n",
    "#Find best parameter:\n",
    "gr_lr.fit(X_train,y_train)\n",
    "\n",
    "print(gr_lr.best_params_)\n",
    "\n",
    "#Apply tuned model to predict:\n",
    "y_pred_lr = gr_lr.predict(X_test)\n",
    "\n",
    "y_pred_lr_prob = lr_tuned.predict_proba(X_test)[:,1] #Probability of user_retained class 1\n"
   ]
  },
  {
   "cell_type": "code",
   "execution_count": 1177,
   "metadata": {},
   "outputs": [
    {
     "name": "stdout",
     "output_type": "stream",
     "text": [
      "Classification Report Logistics Regression:\n",
      "               precision    recall  f1-score   support\n",
      "\n",
      "           0       0.73      0.86      0.79      6218\n",
      "           1       0.67      0.49      0.56      3782\n",
      "\n",
      "   micro avg       0.72      0.72      0.72     10000\n",
      "   macro avg       0.70      0.67      0.68     10000\n",
      "weighted avg       0.71      0.72      0.70     10000\n",
      "\n",
      "Confusion Matrix:\n",
      " [[5322  896]\n",
      " [1946 1836]]\n",
      "Accuracy Score: 0.7158\n"
     ]
    }
   ],
   "source": [
    "#Evaluate:\n",
    "print('Classification Report Logistics Regression:\\n',classification_report(y_test, y_pred_lr))\n",
    "print('Confusion Matrix:\\n',confusion_matrix(y_test, y_pred_lr))\n",
    "print('Accuracy Score:', accuracy_score(y_test, y_pred_lr))"
   ]
  },
  {
   "cell_type": "code",
   "execution_count": 1207,
   "metadata": {},
   "outputs": [
    {
     "data": {
      "image/png": "[encoded data removed]",
      "text/plain": [
       "<Figure size 432x288 with 2 Axes>"
      ]
     },
     "metadata": {
      "needs_background": "light"
     },
     "output_type": "display_data"
    }
   ],
   "source": [
    "sns.heatmap(confusion_matrix(y_test, y_pred_lr), \n",
    "            annot = True, fmt='d',\n",
    "            xticklabels=['not_retained', 'retained'], #0-not_retained, 1-retained\n",
    "            yticklabels=['not_retained', 'retained'])\n",
    "_ = plt.xlabel('Actual')\n",
    "_ = plt.ylabel('Predicted')\n",
    "_ = plt.title('Confusion Matrix Logistics Regression')"
   ]
  },
  {
   "cell_type": "code",
   "execution_count": 1290,
   "metadata": {},
   "outputs": [
    {
     "data": {
      "image/png": "[encoded data removed]",
      "text/plain": [
       "<Figure size 432x288 with 1 Axes>"
      ]
     },
     "metadata": {
      "needs_background": "light"
     },
     "output_type": "display_data"
    }
   ],
   "source": [
    "#AUC, ROC curve\n",
    "fpr, tpr, thresholds = roc_curve(y_test, y_pred_lr_prob)\n",
    "\n",
    "_ = plt.plot([0,1], [0,1])\n",
    "_ = plt.plot(fpr, tpr)\n",
    "_ = plt.xlabel('False Positive Rate')\n",
    "_ = plt.ylabel('True Positive Rate')\n",
    "_ = plt.title('ROC Curve Logistics Regression')"
   ]
  },
  {
   "cell_type": "code",
   "execution_count": 1289,
   "metadata": {},
   "outputs": [
    {
     "name": "stdout",
     "output_type": "stream",
     "text": [
      "Area Under the Curve: 0.7601089763619344\n"
     ]
    }
   ],
   "source": [
    "print('Area Under the Curve:',roc_auc_score(y_test, y_pred_lr_prob)) "
   ]
  },
  {
   "cell_type": "markdown",
   "metadata": {},
   "source": [
    "#### Support Vector Machine:"
   ]
  },
  {
   "cell_type": "code",
   "execution_count": 1199,
   "metadata": {
    "scrolled": true
   },
   "outputs": [
    {
     "name": "stdout",
     "output_type": "stream",
     "text": [
      "Fitting 5 folds for each of 4 candidates, totalling 20 fits\n",
      "[CV] C=0.01, gamma=1 .................................................\n"
     ]
    },
    {
     "name": "stderr",
     "output_type": "stream",
     "text": [
      "[Parallel(n_jobs=1)]: Using backend SequentialBackend with 1 concurrent workers.\n"
     ]
    },
    {
     "name": "stdout",
     "output_type": "stream",
     "text": [
      "[CV] ........ C=0.01, gamma=1, score=0.6741657292838396, total=  22.6s\n",
      "[CV] C=0.01, gamma=1 .................................................\n"
     ]
    },
    {
     "name": "stderr",
     "output_type": "stream",
     "text": [
      "[Parallel(n_jobs=1)]: Done   1 out of   1 | elapsed:   34.8s remaining:    0.0s\n"
     ]
    },
    {
     "name": "stdout",
     "output_type": "stream",
     "text": [
      "[CV] ........ C=0.01, gamma=1, score=0.6737907761529809, total=  22.8s\n",
      "[CV] C=0.01, gamma=1 .................................................\n"
     ]
    },
    {
     "name": "stderr",
     "output_type": "stream",
     "text": [
      "[Parallel(n_jobs=1)]: Done   2 out of   2 | elapsed:  1.2min remaining:    0.0s\n"
     ]
    },
    {
     "name": "stdout",
     "output_type": "stream",
     "text": [
      "[CV] ................... C=0.01, gamma=1, score=0.67425, total=  23.0s\n",
      "[CV] C=0.01, gamma=1 .................................................\n",
      "[CV] ........ C=0.01, gamma=1, score=0.6762095261907739, total=  24.0s\n",
      "[CV] C=0.01, gamma=1 .................................................\n",
      "[CV] ........ C=0.01, gamma=1, score=0.6768346043255407, total=  23.4s\n",
      "[CV] C=0.01, gamma=0.1 ...............................................\n",
      "[CV] ...... C=0.01, gamma=0.1, score=0.7316585426821647, total=  20.1s\n",
      "[CV] C=0.01, gamma=0.1 ...............................................\n",
      "[CV] ...... C=0.01, gamma=0.1, score=0.7362829646294213, total=  20.4s\n",
      "[CV] C=0.01, gamma=0.1 ...............................................\n",
      "[CV] ................ C=0.01, gamma=0.1, score=0.736125, total=  20.6s\n",
      "[CV] C=0.01, gamma=0.1 ...............................................\n",
      "[CV] ...... C=0.01, gamma=0.1, score=0.7342167770971372, total=  20.5s\n",
      "[CV] C=0.01, gamma=0.1 ...............................................\n",
      "[CV] ...... C=0.01, gamma=0.1, score=0.7355919489936242, total=  20.4s\n",
      "[CV] C=1, gamma=1 ....................................................\n",
      "[CV] ........... C=1, gamma=1, score=0.7640294963129609, total=  41.3s\n",
      "[CV] C=1, gamma=1 ....................................................\n",
      "[CV] ............ C=1, gamma=1, score=0.756655418072741, total=  40.4s\n",
      "[CV] C=1, gamma=1 ....................................................\n",
      "[CV] ..................... C=1, gamma=1, score=0.769125, total=  42.2s\n",
      "[CV] C=1, gamma=1 ....................................................\n",
      "[CV] ........... C=1, gamma=1, score=0.7645955744468058, total=  39.4s\n",
      "[CV] C=1, gamma=1 ....................................................\n",
      "[CV] ........... C=1, gamma=1, score=0.7683460432554069, total=  38.6s\n",
      "[CV] C=1, gamma=0.1 ..................................................\n",
      "[CV] ......... C=1, gamma=0.1, score=0.7622797150356205, total=  18.8s\n",
      "[CV] C=1, gamma=0.1 ..................................................\n",
      "[CV] .......... C=1, gamma=0.1, score=0.760779902512186, total=  19.2s\n",
      "[CV] C=1, gamma=0.1 ..................................................\n",
      "[CV] ................... C=1, gamma=0.1, score=0.767625, total=  19.1s\n",
      "[CV] C=1, gamma=0.1 ..................................................\n",
      "[CV] ......... C=1, gamma=0.1, score=0.7668458557319665, total=  18.6s\n",
      "[CV] C=1, gamma=0.1 ..................................................\n",
      "[CV] ......... C=1, gamma=0.1, score=0.7672209026128266, total=  19.2s\n"
     ]
    },
    {
     "name": "stderr",
     "output_type": "stream",
     "text": [
      "[Parallel(n_jobs=1)]: Done  20 out of  20 | elapsed: 12.1min finished\n"
     ]
    },
    {
     "data": {
      "text/plain": [
       "GridSearchCV(cv=5, error_score='raise-deprecating',\n",
       "       estimator=SVC(C=1.0, cache_size=200, class_weight=None, coef0=0.0,\n",
       "  decision_function_shape='ovr', degree=3, gamma='auto_deprecated',\n",
       "  kernel='rbf', max_iter=-1, probability=False, random_state=None,\n",
       "  shrinking=True, tol=0.001, verbose=False),\n",
       "       fit_params=None, iid='warn', n_jobs=None,\n",
       "       param_grid={'C': [0.01, 1], 'gamma': [1, 0.1]},\n",
       "       pre_dispatch='2*n_jobs', refit=True, return_train_score='warn',\n",
       "       scoring=None, verbose=3)"
      ]
     },
     "execution_count": 1199,
     "metadata": {},
     "output_type": "execute_result"
    }
   ],
   "source": [
    "#Initiate\n",
    "svc = SVC(random_state= 12)  # use svc.get_params().keys() to get keys for hyper parameter tuning\n",
    "\n",
    "#Grid Search:\n",
    "param = {\"C\" : [0.01,1], 'gamma': [1,0.1]} #trying with default 'rfb\n",
    "                                           #kernel': ['poly', 'linear', 'rfb'])\n",
    "gs_svc = GridSearchCV(svc, param_grid=param, cv = 5, verbose=3) \n",
    "\n",
    "#Find best parameters\n",
    "gs_svc.fit(X_train,y_train)\n",
    "print(gs_svc.best_params_)"
   ]
  },
  {
   "cell_type": "markdown",
   "metadata": {},
   "source": [
    "**Best Parameters SVM**: \n",
    "{'C': 1, 'gamma': 0.1}"
   ]
  },
  {
   "cell_type": "code",
   "execution_count": 1211,
   "metadata": {},
   "outputs": [],
   "source": [
    "#Apply tuned model to predict: \n",
    "y_pred_svc = gs_svc.predict(X_test)"
   ]
  },
  {
   "cell_type": "code",
   "execution_count": 1205,
   "metadata": {},
   "outputs": [
    {
     "name": "stdout",
     "output_type": "stream",
     "text": [
      "Classification Report SVM:\n",
      "               precision    recall  f1-score   support\n",
      "\n",
      "           0       0.78      0.86      0.82      6218\n",
      "           1       0.73      0.60      0.66      3782\n",
      "\n",
      "   micro avg       0.76      0.76      0.76     10000\n",
      "   macro avg       0.75      0.73      0.74     10000\n",
      "weighted avg       0.76      0.76      0.76     10000\n",
      "\n",
      "Confusion Matrix:\n",
      " [[5371  847]\n",
      " [1520 2262]]\n",
      "Accuracy Score: 0.7633\n"
     ]
    }
   ],
   "source": [
    "#Evaluate:\n",
    "print('Classification Report SVM:\\n',classification_report(y_test, y_pred_svc))\n",
    "print('Confusion Matrix:\\n',confusion_matrix(y_test, y_pred_svc))\n",
    "print('Accuracy Score:', accuracy_score(y_test, y_pred_svc))"
   ]
  },
  {
   "cell_type": "code",
   "execution_count": 1208,
   "metadata": {},
   "outputs": [
    {
     "data": {
      "image/png": "[encoded data removed]",
      "text/plain": [
       "<Figure size 432x288 with 2 Axes>"
      ]
     },
     "metadata": {
      "needs_background": "light"
     },
     "output_type": "display_data"
    }
   ],
   "source": [
    "sns.heatmap(confusion_matrix(y_test, y_pred_svc), \n",
    "            annot = True, fmt='d',\n",
    "            xticklabels=['not_retained', 'retained'], #0-not_retained, 1-retained\n",
    "            yticklabels=['not_retained', 'retained'])\n",
    "_ = plt.xlabel('Actual')\n",
    "_ = plt.ylabel('Predicted')\n",
    "_ = plt.title('Confusion Matrix SVM')"
   ]
  },
  {
   "cell_type": "markdown",
   "metadata": {},
   "source": [
    "#### Random Forest Classifier"
   ]
  },
  {
   "cell_type": "code",
   "execution_count": 1239,
   "metadata": {
    "scrolled": true
   },
   "outputs": [
    {
     "name": "stdout",
     "output_type": "stream",
     "text": [
      "{'bootstrap': True, 'class_weight': None, 'criterion': 'gini', 'max_depth': None, 'max_features': 'auto', 'max_leaf_nodes': None, 'min_impurity_decrease': 0.0, 'min_impurity_split': None, 'min_samples_leaf': 1, 'min_samples_split': 2, 'min_weight_fraction_leaf': 0.0, 'n_estimators': 'warn', 'n_jobs': None, 'oob_score': False, 'random_state': None, 'verbose': 0, 'warm_start': False}\n",
      "Fitting 5 folds for each of 10 candidates, totalling 50 fits\n",
      "[CV] n_estimators=200, min_samples_split=2, min_samples_leaf=4, max_features=10, criterion=entropy \n"
     ]
    },
    {
     "name": "stderr",
     "output_type": "stream",
     "text": [
      "[Parallel(n_jobs=1)]: Using backend SequentialBackend with 1 concurrent workers.\n"
     ]
    },
    {
     "name": "stdout",
     "output_type": "stream",
     "text": [
      "[CV]  n_estimators=200, min_samples_split=2, min_samples_leaf=4, max_features=10, criterion=entropy, score=0.7732783402074741, total=  11.3s\n",
      "[CV] n_estimators=200, min_samples_split=2, min_samples_leaf=4, max_features=10, criterion=entropy \n"
     ]
    },
    {
     "name": "stderr",
     "output_type": "stream",
     "text": [
      "[Parallel(n_jobs=1)]: Done   1 out of   1 | elapsed:   12.2s remaining:    0.0s\n"
     ]
    },
    {
     "name": "stdout",
     "output_type": "stream",
     "text": [
      "[CV]  n_estimators=200, min_samples_split=2, min_samples_leaf=4, max_features=10, criterion=entropy, score=0.762779652543432, total=  11.8s\n",
      "[CV] n_estimators=200, min_samples_split=2, min_samples_leaf=4, max_features=10, criterion=entropy \n"
     ]
    },
    {
     "name": "stderr",
     "output_type": "stream",
     "text": [
      "[Parallel(n_jobs=1)]: Done   2 out of   2 | elapsed:   24.8s remaining:    0.0s\n"
     ]
    },
    {
     "name": "stdout",
     "output_type": "stream",
     "text": [
      "[CV]  n_estimators=200, min_samples_split=2, min_samples_leaf=4, max_features=10, criterion=entropy, score=0.775125, total=  11.6s\n",
      "[CV] n_estimators=200, min_samples_split=2, min_samples_leaf=4, max_features=10, criterion=entropy \n",
      "[CV]  n_estimators=200, min_samples_split=2, min_samples_leaf=4, max_features=10, criterion=entropy, score=0.766345793224153, total=  11.4s\n",
      "[CV] n_estimators=200, min_samples_split=2, min_samples_leaf=4, max_features=10, criterion=entropy \n",
      "[CV]  n_estimators=200, min_samples_split=2, min_samples_leaf=4, max_features=10, criterion=entropy, score=0.7749718714839355, total=  10.9s\n",
      "[CV] n_estimators=200, min_samples_split=5, min_samples_leaf=2, max_features=2, criterion=entropy \n",
      "[CV]  n_estimators=200, min_samples_split=5, min_samples_leaf=2, max_features=2, criterion=entropy, score=0.778527684039495, total=   3.8s\n",
      "[CV] n_estimators=200, min_samples_split=5, min_samples_leaf=2, max_features=2, criterion=entropy \n",
      "[CV]  n_estimators=200, min_samples_split=5, min_samples_leaf=2, max_features=2, criterion=entropy, score=0.7647794025746781, total=   4.0s\n",
      "[CV] n_estimators=200, min_samples_split=5, min_samples_leaf=2, max_features=2, criterion=entropy \n",
      "[CV]  n_estimators=200, min_samples_split=5, min_samples_leaf=2, max_features=2, criterion=entropy, score=0.77625, total=   4.1s\n",
      "[CV] n_estimators=200, min_samples_split=5, min_samples_leaf=2, max_features=2, criterion=entropy \n",
      "[CV]  n_estimators=200, min_samples_split=5, min_samples_leaf=2, max_features=2, criterion=entropy, score=0.7669708713589198, total=   4.2s\n",
      "[CV] n_estimators=200, min_samples_split=5, min_samples_leaf=2, max_features=2, criterion=entropy \n",
      "[CV]  n_estimators=200, min_samples_split=5, min_samples_leaf=2, max_features=2, criterion=entropy, score=0.7783472934116764, total=   4.0s\n",
      "[CV] n_estimators=100, min_samples_split=2, min_samples_leaf=2, max_features=10, criterion=gini \n",
      "[CV]  n_estimators=100, min_samples_split=2, min_samples_leaf=2, max_features=10, criterion=gini, score=0.7661542307211598, total=   5.1s\n",
      "[CV] n_estimators=100, min_samples_split=2, min_samples_leaf=2, max_features=10, criterion=gini \n",
      "[CV]  n_estimators=100, min_samples_split=2, min_samples_leaf=2, max_features=10, criterion=gini, score=0.7554055743032121, total=   4.9s\n",
      "[CV] n_estimators=100, min_samples_split=2, min_samples_leaf=2, max_features=10, criterion=gini \n",
      "[CV]  n_estimators=100, min_samples_split=2, min_samples_leaf=2, max_features=10, criterion=gini, score=0.765375, total=   5.3s\n",
      "[CV] n_estimators=100, min_samples_split=2, min_samples_leaf=2, max_features=10, criterion=gini \n",
      "[CV]  n_estimators=100, min_samples_split=2, min_samples_leaf=2, max_features=10, criterion=gini, score=0.7560945118139768, total=   5.4s\n",
      "[CV] n_estimators=100, min_samples_split=2, min_samples_leaf=2, max_features=10, criterion=gini \n",
      "[CV]  n_estimators=100, min_samples_split=2, min_samples_leaf=2, max_features=10, criterion=gini, score=0.7685960745093137, total=   5.2s\n",
      "[CV] n_estimators=100, min_samples_split=2, min_samples_leaf=4, max_features=2, criterion=gini \n",
      "[CV]  n_estimators=100, min_samples_split=2, min_samples_leaf=4, max_features=2, criterion=gini, score=0.7846519185101862, total=   1.6s\n",
      "[CV] n_estimators=100, min_samples_split=2, min_samples_leaf=4, max_features=2, criterion=gini \n",
      "[CV]  n_estimators=100, min_samples_split=2, min_samples_leaf=4, max_features=2, criterion=gini, score=0.7700287464066992, total=   1.6s\n",
      "[CV] n_estimators=100, min_samples_split=2, min_samples_leaf=4, max_features=2, criterion=gini \n",
      "[CV]  n_estimators=100, min_samples_split=2, min_samples_leaf=4, max_features=2, criterion=gini, score=0.781625, total=   1.7s\n",
      "[CV] n_estimators=100, min_samples_split=2, min_samples_leaf=4, max_features=2, criterion=gini \n",
      "[CV]  n_estimators=100, min_samples_split=2, min_samples_leaf=4, max_features=2, criterion=gini, score=0.7787223402925366, total=   1.6s\n",
      "[CV] n_estimators=100, min_samples_split=2, min_samples_leaf=4, max_features=2, criterion=gini \n",
      "[CV]  n_estimators=100, min_samples_split=2, min_samples_leaf=4, max_features=2, criterion=gini, score=0.7852231528941117, total=   1.6s\n",
      "[CV] n_estimators=100, min_samples_split=5, min_samples_leaf=2, max_features=10, criterion=gini \n",
      "[CV]  n_estimators=100, min_samples_split=5, min_samples_leaf=2, max_features=10, criterion=gini, score=0.7655293088363955, total=   5.3s\n",
      "[CV] n_estimators=100, min_samples_split=5, min_samples_leaf=2, max_features=10, criterion=gini \n",
      "[CV]  n_estimators=100, min_samples_split=5, min_samples_leaf=2, max_features=10, criterion=gini, score=0.7571553555805525, total=   5.3s\n",
      "[CV] n_estimators=100, min_samples_split=5, min_samples_leaf=2, max_features=10, criterion=gini \n",
      "[CV]  n_estimators=100, min_samples_split=5, min_samples_leaf=2, max_features=10, criterion=gini, score=0.76825, total=   5.4s\n",
      "[CV] n_estimators=100, min_samples_split=5, min_samples_leaf=2, max_features=10, criterion=gini \n",
      "[CV]  n_estimators=100, min_samples_split=5, min_samples_leaf=2, max_features=10, criterion=gini, score=0.7572196524565571, total=   5.0s\n",
      "[CV] n_estimators=100, min_samples_split=5, min_samples_leaf=2, max_features=10, criterion=gini \n",
      "[CV]  n_estimators=100, min_samples_split=5, min_samples_leaf=2, max_features=10, criterion=gini, score=0.7674709338667334, total=   5.4s\n",
      "[CV] n_estimators=100, min_samples_split=5, min_samples_leaf=4, max_features=10, criterion=gini \n",
      "[CV]  n_estimators=100, min_samples_split=5, min_samples_leaf=4, max_features=10, criterion=gini, score=0.770153730783652, total=   5.0s\n",
      "[CV] n_estimators=100, min_samples_split=5, min_samples_leaf=4, max_features=10, criterion=gini \n",
      "[CV]  n_estimators=100, min_samples_split=5, min_samples_leaf=4, max_features=10, criterion=gini, score=0.7626546681664792, total=   4.9s\n",
      "[CV] n_estimators=100, min_samples_split=5, min_samples_leaf=4, max_features=10, criterion=gini \n",
      "[CV]  n_estimators=100, min_samples_split=5, min_samples_leaf=4, max_features=10, criterion=gini, score=0.772125, total=   4.8s\n",
      "[CV] n_estimators=100, min_samples_split=5, min_samples_leaf=4, max_features=10, criterion=gini \n",
      "[CV]  n_estimators=100, min_samples_split=5, min_samples_leaf=4, max_features=10, criterion=gini, score=0.7622202775346918, total=   4.9s\n",
      "[CV] n_estimators=100, min_samples_split=5, min_samples_leaf=4, max_features=10, criterion=gini \n",
      "[CV]  n_estimators=100, min_samples_split=5, min_samples_leaf=4, max_features=10, criterion=gini, score=0.7764720590073759, total=   5.0s\n",
      "[CV] n_estimators=200, min_samples_split=2, min_samples_leaf=1, max_features=10, criterion=entropy \n",
      "[CV]  n_estimators=200, min_samples_split=2, min_samples_leaf=1, max_features=10, criterion=entropy, score=0.7574053243344582, total=  13.6s\n",
      "[CV] n_estimators=200, min_samples_split=2, min_samples_leaf=1, max_features=10, criterion=entropy \n",
      "[CV]  n_estimators=200, min_samples_split=2, min_samples_leaf=1, max_features=10, criterion=entropy, score=0.749281339832521, total=  12.8s\n",
      "[CV] n_estimators=200, min_samples_split=2, min_samples_leaf=1, max_features=10, criterion=entropy \n",
      "[CV]  n_estimators=200, min_samples_split=2, min_samples_leaf=1, max_features=10, criterion=entropy, score=0.761375, total=  12.9s\n",
      "[CV] n_estimators=200, min_samples_split=2, min_samples_leaf=1, max_features=10, criterion=entropy \n",
      "[CV]  n_estimators=200, min_samples_split=2, min_samples_leaf=1, max_features=10, criterion=entropy, score=0.7483435429428679, total=  13.0s\n",
      "[CV] n_estimators=200, min_samples_split=2, min_samples_leaf=1, max_features=10, criterion=entropy \n",
      "[CV]  n_estimators=200, min_samples_split=2, min_samples_leaf=1, max_features=10, criterion=entropy, score=0.7614701837729716, total=  12.8s\n",
      "[CV] n_estimators=100, min_samples_split=2, min_samples_leaf=4, max_features=10, criterion=gini \n",
      "[CV]  n_estimators=100, min_samples_split=2, min_samples_leaf=4, max_features=10, criterion=gini, score=0.7709036370453693, total=   4.8s\n",
      "[CV] n_estimators=100, min_samples_split=2, min_samples_leaf=4, max_features=10, criterion=gini \n",
      "[CV]  n_estimators=100, min_samples_split=2, min_samples_leaf=4, max_features=10, criterion=gini, score=0.7616547931508562, total=   5.0s\n",
      "[CV] n_estimators=100, min_samples_split=2, min_samples_leaf=4, max_features=10, criterion=gini \n"
     ]
    },
    {
     "name": "stdout",
     "output_type": "stream",
     "text": [
      "[CV]  n_estimators=100, min_samples_split=2, min_samples_leaf=4, max_features=10, criterion=gini, score=0.77075, total=   5.0s\n",
      "[CV] n_estimators=100, min_samples_split=2, min_samples_leaf=4, max_features=10, criterion=gini \n",
      "[CV]  n_estimators=100, min_samples_split=2, min_samples_leaf=4, max_features=10, criterion=gini, score=0.7635954494311789, total=   5.1s\n",
      "[CV] n_estimators=100, min_samples_split=2, min_samples_leaf=4, max_features=10, criterion=gini \n",
      "[CV]  n_estimators=100, min_samples_split=2, min_samples_leaf=4, max_features=10, criterion=gini, score=0.7769721215151894, total=   4.8s\n",
      "[CV] n_estimators=100, min_samples_split=2, min_samples_leaf=1, max_features=5, criterion=gini \n",
      "[CV]  n_estimators=100, min_samples_split=2, min_samples_leaf=1, max_features=5, criterion=gini, score=0.7514060742407199, total=   3.2s\n",
      "[CV] n_estimators=100, min_samples_split=2, min_samples_leaf=1, max_features=5, criterion=gini \n",
      "[CV]  n_estimators=100, min_samples_split=2, min_samples_leaf=1, max_features=5, criterion=gini, score=0.7446569178852643, total=   3.1s\n",
      "[CV] n_estimators=100, min_samples_split=2, min_samples_leaf=1, max_features=5, criterion=gini \n",
      "[CV]  n_estimators=100, min_samples_split=2, min_samples_leaf=1, max_features=5, criterion=gini, score=0.756, total=   3.1s\n",
      "[CV] n_estimators=100, min_samples_split=2, min_samples_leaf=1, max_features=5, criterion=gini \n",
      "[CV]  n_estimators=100, min_samples_split=2, min_samples_leaf=1, max_features=5, criterion=gini, score=0.7475934491811477, total=   3.1s\n",
      "[CV] n_estimators=100, min_samples_split=2, min_samples_leaf=1, max_features=5, criterion=gini \n",
      "[CV]  n_estimators=100, min_samples_split=2, min_samples_leaf=1, max_features=5, criterion=gini, score=0.7599699962495312, total=   3.2s\n",
      "[CV] n_estimators=100, min_samples_split=5, min_samples_leaf=2, max_features=2, criterion=entropy \n",
      "[CV]  n_estimators=100, min_samples_split=5, min_samples_leaf=2, max_features=2, criterion=entropy, score=0.778527684039495, total=   2.0s\n",
      "[CV] n_estimators=100, min_samples_split=5, min_samples_leaf=2, max_features=2, criterion=entropy \n",
      "[CV]  n_estimators=100, min_samples_split=5, min_samples_leaf=2, max_features=2, criterion=entropy, score=0.7647794025746781, total=   2.0s\n",
      "[CV] n_estimators=100, min_samples_split=5, min_samples_leaf=2, max_features=2, criterion=entropy \n",
      "[CV]  n_estimators=100, min_samples_split=5, min_samples_leaf=2, max_features=2, criterion=entropy, score=0.77175, total=   2.1s\n",
      "[CV] n_estimators=100, min_samples_split=5, min_samples_leaf=2, max_features=2, criterion=entropy \n",
      "[CV]  n_estimators=100, min_samples_split=5, min_samples_leaf=2, max_features=2, criterion=entropy, score=0.7675959494936867, total=   2.0s\n",
      "[CV] n_estimators=100, min_samples_split=5, min_samples_leaf=2, max_features=2, criterion=entropy \n",
      "[CV]  n_estimators=100, min_samples_split=5, min_samples_leaf=2, max_features=2, criterion=entropy, score=0.7748468558569821, total=   2.0s\n"
     ]
    },
    {
     "name": "stderr",
     "output_type": "stream",
     "text": [
      "[Parallel(n_jobs=1)]: Done  50 out of  50 | elapsed:  5.1min finished\n"
     ]
    },
    {
     "name": "stdout",
     "output_type": "stream",
     "text": [
      "{'n_estimators': 100, 'min_samples_split': 2, 'min_samples_leaf': 4, 'max_features': 2, 'criterion': 'gini'}\n"
     ]
    }
   ],
   "source": [
    "#Initiate\n",
    "rf = RandomForestClassifier(random_state=12)\n",
    "print(rf.get_params())\n",
    "\n",
    "#Random Search:\n",
    "param = {'n_estimators': [100, 200], 'criterion': ['gini', 'entropy'], 'max_features': [2,5,10], \"min_samples_split\": [2, 5], \"min_samples_leaf\": [1, 2, 4] }\n",
    "rs_rf = RandomizedSearchCV(rf, param_distributions = param, cv = 5, verbose=3)\n",
    "\n",
    "#Find Best Parameters:\n",
    "rf_model = rs_rf.fit(X_train, y_train)\n",
    "print(rf_model.best_params_)\n"
   ]
  },
  {
   "cell_type": "markdown",
   "metadata": {},
   "source": [
    "**Best Parameters from Random Search**\n",
    "\n",
    "{'n_estimators': 100, 'min_samples_split': 2, 'min_samples_leaf': 4, 'max_features': 2, 'criterion': 'gini'}"
   ]
  },
  {
   "cell_type": "code",
   "execution_count": 1250,
   "metadata": {
    "scrolled": true
   },
   "outputs": [
    {
     "name": "stdout",
     "output_type": "stream",
     "text": [
      "Fitting 5 folds for each of 16 candidates, totalling 80 fits\n",
      "[CV] max_features=2, min_samples_leaf=4, min_samples_split=2, n_estimators=100 \n"
     ]
    },
    {
     "name": "stderr",
     "output_type": "stream",
     "text": [
      "[Parallel(n_jobs=1)]: Using backend SequentialBackend with 1 concurrent workers.\n"
     ]
    },
    {
     "name": "stdout",
     "output_type": "stream",
     "text": [
      "[CV]  max_features=2, min_samples_leaf=4, min_samples_split=2, n_estimators=100, score=0.7841519810023747, total=   1.6s\n",
      "[CV] max_features=2, min_samples_leaf=4, min_samples_split=2, n_estimators=100 \n"
     ]
    },
    {
     "name": "stderr",
     "output_type": "stream",
     "text": [
      "[Parallel(n_jobs=1)]: Done   1 out of   1 | elapsed:    2.0s remaining:    0.0s\n"
     ]
    },
    {
     "name": "stdout",
     "output_type": "stream",
     "text": [
      "[CV]  max_features=2, min_samples_leaf=4, min_samples_split=2, n_estimators=100, score=0.7742782152230971, total=   1.5s\n",
      "[CV] max_features=2, min_samples_leaf=4, min_samples_split=2, n_estimators=100 \n"
     ]
    },
    {
     "name": "stderr",
     "output_type": "stream",
     "text": [
      "[Parallel(n_jobs=1)]: Done   2 out of   2 | elapsed:    3.9s remaining:    0.0s\n"
     ]
    },
    {
     "name": "stdout",
     "output_type": "stream",
     "text": [
      "[CV]  max_features=2, min_samples_leaf=4, min_samples_split=2, n_estimators=100, score=0.78275, total=   1.5s\n",
      "[CV] max_features=2, min_samples_leaf=4, min_samples_split=2, n_estimators=100 \n",
      "[CV]  max_features=2, min_samples_leaf=4, min_samples_split=2, n_estimators=100, score=0.7770971371421428, total=   1.5s\n",
      "[CV] max_features=2, min_samples_leaf=4, min_samples_split=2, n_estimators=100 \n",
      "[CV]  max_features=2, min_samples_leaf=4, min_samples_split=2, n_estimators=100, score=0.7830978872359045, total=   1.6s\n",
      "[CV] max_features=2, min_samples_leaf=4, min_samples_split=2, n_estimators=200 \n",
      "[CV]  max_features=2, min_samples_leaf=4, min_samples_split=2, n_estimators=200, score=0.7847769028871391, total=   3.1s\n",
      "[CV] max_features=2, min_samples_leaf=4, min_samples_split=2, n_estimators=200 \n",
      "[CV]  max_features=2, min_samples_leaf=4, min_samples_split=2, n_estimators=200, score=0.7714035745531809, total=   3.2s\n",
      "[CV] max_features=2, min_samples_leaf=4, min_samples_split=2, n_estimators=200 \n",
      "[CV]  max_features=2, min_samples_leaf=4, min_samples_split=2, n_estimators=200, score=0.783625, total=   3.0s\n",
      "[CV] max_features=2, min_samples_leaf=4, min_samples_split=2, n_estimators=200 \n",
      "[CV]  max_features=2, min_samples_leaf=4, min_samples_split=2, n_estimators=200, score=0.7787223402925366, total=   3.0s\n",
      "[CV] max_features=2, min_samples_leaf=4, min_samples_split=2, n_estimators=200 \n",
      "[CV]  max_features=2, min_samples_leaf=4, min_samples_split=2, n_estimators=200, score=0.7839729966245781, total=   3.3s\n",
      "[CV] max_features=2, min_samples_leaf=4, min_samples_split=3, n_estimators=100 \n",
      "[CV]  max_features=2, min_samples_leaf=4, min_samples_split=3, n_estimators=100, score=0.7852768403949506, total=   1.5s\n",
      "[CV] max_features=2, min_samples_leaf=4, min_samples_split=3, n_estimators=100 \n",
      "[CV]  max_features=2, min_samples_leaf=4, min_samples_split=3, n_estimators=100, score=0.7731533558305211, total=   1.7s\n",
      "[CV] max_features=2, min_samples_leaf=4, min_samples_split=3, n_estimators=100 \n",
      "[CV]  max_features=2, min_samples_leaf=4, min_samples_split=3, n_estimators=100, score=0.783125, total=   1.6s\n",
      "[CV] max_features=2, min_samples_leaf=4, min_samples_split=3, n_estimators=100 \n",
      "[CV]  max_features=2, min_samples_leaf=4, min_samples_split=3, n_estimators=100, score=0.7782222777847231, total=   1.7s\n",
      "[CV] max_features=2, min_samples_leaf=4, min_samples_split=3, n_estimators=100 \n",
      "[CV]  max_features=2, min_samples_leaf=4, min_samples_split=3, n_estimators=100, score=0.7839729966245781, total=   1.6s\n",
      "[CV] max_features=2, min_samples_leaf=4, min_samples_split=3, n_estimators=200 \n",
      "[CV]  max_features=2, min_samples_leaf=4, min_samples_split=3, n_estimators=200, score=0.7864016997875266, total=   3.1s\n",
      "[CV] max_features=2, min_samples_leaf=4, min_samples_split=3, n_estimators=200 \n",
      "[CV]  max_features=2, min_samples_leaf=4, min_samples_split=3, n_estimators=200, score=0.7717785276840395, total=   3.1s\n",
      "[CV] max_features=2, min_samples_leaf=4, min_samples_split=3, n_estimators=200 \n",
      "[CV]  max_features=2, min_samples_leaf=4, min_samples_split=3, n_estimators=200, score=0.784, total=   3.1s\n",
      "[CV] max_features=2, min_samples_leaf=4, min_samples_split=3, n_estimators=200 \n",
      "[CV]  max_features=2, min_samples_leaf=4, min_samples_split=3, n_estimators=200, score=0.7784723090386299, total=   3.2s\n",
      "[CV] max_features=2, min_samples_leaf=4, min_samples_split=3, n_estimators=200 \n",
      "[CV]  max_features=2, min_samples_leaf=4, min_samples_split=3, n_estimators=200, score=0.784598074759345, total=   3.4s\n",
      "[CV] max_features=2, min_samples_leaf=5, min_samples_split=2, n_estimators=100 \n",
      "[CV]  max_features=2, min_samples_leaf=5, min_samples_split=2, n_estimators=100, score=0.7847769028871391, total=   1.6s\n",
      "[CV] max_features=2, min_samples_leaf=5, min_samples_split=2, n_estimators=100 \n",
      "[CV]  max_features=2, min_samples_leaf=5, min_samples_split=2, n_estimators=100, score=0.7726534183227096, total=   1.7s\n",
      "[CV] max_features=2, min_samples_leaf=5, min_samples_split=2, n_estimators=100 \n",
      "[CV]  max_features=2, min_samples_leaf=5, min_samples_split=2, n_estimators=100, score=0.78275, total=   1.6s\n",
      "[CV] max_features=2, min_samples_leaf=5, min_samples_split=2, n_estimators=100 \n",
      "[CV]  max_features=2, min_samples_leaf=5, min_samples_split=2, n_estimators=100, score=0.7787223402925366, total=   1.6s\n",
      "[CV] max_features=2, min_samples_leaf=5, min_samples_split=2, n_estimators=100 \n",
      "[CV]  max_features=2, min_samples_leaf=5, min_samples_split=2, n_estimators=100, score=0.7848481060132516, total=   1.6s\n",
      "[CV] max_features=2, min_samples_leaf=5, min_samples_split=2, n_estimators=200 \n",
      "[CV]  max_features=2, min_samples_leaf=5, min_samples_split=2, n_estimators=200, score=0.7836520434945632, total=   3.1s\n",
      "[CV] max_features=2, min_samples_leaf=5, min_samples_split=2, n_estimators=200 \n",
      "[CV]  max_features=2, min_samples_leaf=5, min_samples_split=2, n_estimators=200, score=0.7745281839770028, total=   3.1s\n",
      "[CV] max_features=2, min_samples_leaf=5, min_samples_split=2, n_estimators=200 \n",
      "[CV]  max_features=2, min_samples_leaf=5, min_samples_split=2, n_estimators=200, score=0.785875, total=   3.1s\n",
      "[CV] max_features=2, min_samples_leaf=5, min_samples_split=2, n_estimators=200 \n",
      "[CV]  max_features=2, min_samples_leaf=5, min_samples_split=2, n_estimators=200, score=0.7804725590698838, total=   3.0s\n",
      "[CV] max_features=2, min_samples_leaf=5, min_samples_split=2, n_estimators=200 \n",
      "[CV]  max_features=2, min_samples_leaf=5, min_samples_split=2, n_estimators=200, score=0.7853481685210651, total=   3.0s\n",
      "[CV] max_features=2, min_samples_leaf=5, min_samples_split=3, n_estimators=100 \n",
      "[CV]  max_features=2, min_samples_leaf=5, min_samples_split=3, n_estimators=100, score=0.7851518560179978, total=   1.4s\n",
      "[CV] max_features=2, min_samples_leaf=5, min_samples_split=3, n_estimators=100 \n",
      "[CV]  max_features=2, min_samples_leaf=5, min_samples_split=3, n_estimators=100, score=0.7747781527309087, total=   1.5s\n",
      "[CV] max_features=2, min_samples_leaf=5, min_samples_split=3, n_estimators=100 \n",
      "[CV]  max_features=2, min_samples_leaf=5, min_samples_split=3, n_estimators=100, score=0.7835, total=   1.5s\n",
      "[CV] max_features=2, min_samples_leaf=5, min_samples_split=3, n_estimators=100 \n",
      "[CV]  max_features=2, min_samples_leaf=5, min_samples_split=3, n_estimators=100, score=0.7798474809351169, total=   1.4s\n",
      "[CV] max_features=2, min_samples_leaf=5, min_samples_split=3, n_estimators=100 \n",
      "[CV]  max_features=2, min_samples_leaf=5, min_samples_split=3, n_estimators=100, score=0.7862232779097387, total=   1.5s\n",
      "[CV] max_features=2, min_samples_leaf=5, min_samples_split=3, n_estimators=200 \n",
      "[CV]  max_features=2, min_samples_leaf=5, min_samples_split=3, n_estimators=200, score=0.7866516685414323, total=   3.2s\n",
      "[CV] max_features=2, min_samples_leaf=5, min_samples_split=3, n_estimators=200 \n",
      "[CV]  max_features=2, min_samples_leaf=5, min_samples_split=3, n_estimators=200, score=0.7755280589926259, total=   3.1s\n",
      "[CV] max_features=2, min_samples_leaf=5, min_samples_split=3, n_estimators=200 \n",
      "[CV]  max_features=2, min_samples_leaf=5, min_samples_split=3, n_estimators=200, score=0.785875, total=   3.0s\n",
      "[CV] max_features=2, min_samples_leaf=5, min_samples_split=3, n_estimators=200 \n",
      "[CV]  max_features=2, min_samples_leaf=5, min_samples_split=3, n_estimators=200, score=0.7804725590698838, total=   3.1s\n",
      "[CV] max_features=2, min_samples_leaf=5, min_samples_split=3, n_estimators=200 \n",
      "[CV]  max_features=2, min_samples_leaf=5, min_samples_split=3, n_estimators=200, score=0.7860982622827853, total=   3.0s\n",
      "[CV] max_features=3, min_samples_leaf=4, min_samples_split=2, n_estimators=100 \n",
      "[CV]  max_features=3, min_samples_leaf=4, min_samples_split=2, n_estimators=100, score=0.7814023247094113, total=   2.1s\n",
      "[CV] max_features=3, min_samples_leaf=4, min_samples_split=2, n_estimators=100 \n",
      "[CV]  max_features=3, min_samples_leaf=4, min_samples_split=2, n_estimators=100, score=0.7704036995375578, total=   1.9s\n",
      "[CV] max_features=3, min_samples_leaf=4, min_samples_split=2, n_estimators=100 \n",
      "[CV]  max_features=3, min_samples_leaf=4, min_samples_split=2, n_estimators=100, score=0.782375, total=   1.9s\n",
      "[CV] max_features=3, min_samples_leaf=4, min_samples_split=2, n_estimators=100 \n",
      "[CV]  max_features=3, min_samples_leaf=4, min_samples_split=2, n_estimators=100, score=0.776847105888236, total=   2.0s\n",
      "[CV] max_features=3, min_samples_leaf=4, min_samples_split=2, n_estimators=100 \n"
     ]
    },
    {
     "name": "stdout",
     "output_type": "stream",
     "text": [
      "[CV]  max_features=3, min_samples_leaf=4, min_samples_split=2, n_estimators=100, score=0.7804725590698838, total=   1.9s\n",
      "[CV] max_features=3, min_samples_leaf=4, min_samples_split=2, n_estimators=200 \n",
      "[CV]  max_features=3, min_samples_leaf=4, min_samples_split=2, n_estimators=200, score=0.7825271841019873, total=   4.0s\n",
      "[CV] max_features=3, min_samples_leaf=4, min_samples_split=2, n_estimators=200 \n",
      "[CV]  max_features=3, min_samples_leaf=4, min_samples_split=2, n_estimators=200, score=0.7735283089613798, total=   3.9s\n",
      "[CV] max_features=3, min_samples_leaf=4, min_samples_split=2, n_estimators=200 \n",
      "[CV]  max_features=3, min_samples_leaf=4, min_samples_split=2, n_estimators=200, score=0.782375, total=   3.8s\n",
      "[CV] max_features=3, min_samples_leaf=4, min_samples_split=2, n_estimators=200 \n",
      "[CV]  max_features=3, min_samples_leaf=4, min_samples_split=2, n_estimators=200, score=0.7749718714839355, total=   4.0s\n",
      "[CV] max_features=3, min_samples_leaf=4, min_samples_split=2, n_estimators=200 \n",
      "[CV]  max_features=3, min_samples_leaf=4, min_samples_split=2, n_estimators=200, score=0.7842230278784849, total=   4.0s\n",
      "[CV] max_features=3, min_samples_leaf=4, min_samples_split=3, n_estimators=100 \n",
      "[CV]  max_features=3, min_samples_leaf=4, min_samples_split=3, n_estimators=100, score=0.7819022622172228, total=   1.9s\n",
      "[CV] max_features=3, min_samples_leaf=4, min_samples_split=3, n_estimators=100 \n",
      "[CV]  max_features=3, min_samples_leaf=4, min_samples_split=3, n_estimators=100, score=0.7715285589301337, total=   2.1s\n",
      "[CV] max_features=3, min_samples_leaf=4, min_samples_split=3, n_estimators=100 \n",
      "[CV]  max_features=3, min_samples_leaf=4, min_samples_split=3, n_estimators=100, score=0.78075, total=   2.0s\n",
      "[CV] max_features=3, min_samples_leaf=4, min_samples_split=3, n_estimators=100 \n",
      "[CV]  max_features=3, min_samples_leaf=4, min_samples_split=3, n_estimators=100, score=0.7764720590073759, total=   2.1s\n",
      "[CV] max_features=3, min_samples_leaf=4, min_samples_split=3, n_estimators=100 \n",
      "[CV]  max_features=3, min_samples_leaf=4, min_samples_split=3, n_estimators=100, score=0.7824728091011376, total=   2.0s\n",
      "[CV] max_features=3, min_samples_leaf=4, min_samples_split=3, n_estimators=200 \n",
      "[CV]  max_features=3, min_samples_leaf=4, min_samples_split=3, n_estimators=200, score=0.7814023247094113, total=   3.9s\n",
      "[CV] max_features=3, min_samples_leaf=4, min_samples_split=3, n_estimators=200 \n",
      "[CV]  max_features=3, min_samples_leaf=4, min_samples_split=3, n_estimators=200, score=0.7717785276840395, total=   3.9s\n",
      "[CV] max_features=3, min_samples_leaf=4, min_samples_split=3, n_estimators=200 \n",
      "[CV]  max_features=3, min_samples_leaf=4, min_samples_split=3, n_estimators=200, score=0.782625, total=   4.1s\n",
      "[CV] max_features=3, min_samples_leaf=4, min_samples_split=3, n_estimators=200 \n",
      "[CV]  max_features=3, min_samples_leaf=4, min_samples_split=3, n_estimators=200, score=0.7770971371421428, total=   4.1s\n",
      "[CV] max_features=3, min_samples_leaf=4, min_samples_split=3, n_estimators=200 \n",
      "[CV]  max_features=3, min_samples_leaf=4, min_samples_split=3, n_estimators=200, score=0.7827228403550444, total=   4.1s\n",
      "[CV] max_features=3, min_samples_leaf=5, min_samples_split=2, n_estimators=100 \n",
      "[CV]  max_features=3, min_samples_leaf=5, min_samples_split=2, n_estimators=100, score=0.7845269341332334, total=   1.9s\n",
      "[CV] max_features=3, min_samples_leaf=5, min_samples_split=2, n_estimators=100 \n",
      "[CV]  max_features=3, min_samples_leaf=5, min_samples_split=2, n_estimators=100, score=0.7722784651918511, total=   1.9s\n",
      "[CV] max_features=3, min_samples_leaf=5, min_samples_split=2, n_estimators=100 \n",
      "[CV]  max_features=3, min_samples_leaf=5, min_samples_split=2, n_estimators=100, score=0.784125, total=   1.9s\n",
      "[CV] max_features=3, min_samples_leaf=5, min_samples_split=2, n_estimators=100 \n",
      "[CV]  max_features=3, min_samples_leaf=5, min_samples_split=2, n_estimators=100, score=0.7763470433804226, total=   2.0s\n",
      "[CV] max_features=3, min_samples_leaf=5, min_samples_split=2, n_estimators=100 \n",
      "[CV]  max_features=3, min_samples_leaf=5, min_samples_split=2, n_estimators=100, score=0.782597824728091, total=   1.8s\n",
      "[CV] max_features=3, min_samples_leaf=5, min_samples_split=2, n_estimators=200 \n",
      "[CV]  max_features=3, min_samples_leaf=5, min_samples_split=2, n_estimators=200, score=0.7852768403949506, total=   3.7s\n",
      "[CV] max_features=3, min_samples_leaf=5, min_samples_split=2, n_estimators=200 \n",
      "[CV]  max_features=3, min_samples_leaf=5, min_samples_split=2, n_estimators=200, score=0.7737782777152856, total=   3.8s\n",
      "[CV] max_features=3, min_samples_leaf=5, min_samples_split=2, n_estimators=200 \n",
      "[CV]  max_features=3, min_samples_leaf=5, min_samples_split=2, n_estimators=200, score=0.78375, total=   3.8s\n",
      "[CV] max_features=3, min_samples_leaf=5, min_samples_split=2, n_estimators=200 \n",
      "[CV]  max_features=3, min_samples_leaf=5, min_samples_split=2, n_estimators=200, score=0.7789723715464433, total=   3.8s\n",
      "[CV] max_features=3, min_samples_leaf=5, min_samples_split=2, n_estimators=200 \n",
      "[CV]  max_features=3, min_samples_leaf=5, min_samples_split=2, n_estimators=200, score=0.7842230278784849, total=   3.9s\n",
      "[CV] max_features=3, min_samples_leaf=5, min_samples_split=3, n_estimators=100 \n",
      "[CV]  max_features=3, min_samples_leaf=5, min_samples_split=3, n_estimators=100, score=0.783777027871516, total=   2.0s\n",
      "[CV] max_features=3, min_samples_leaf=5, min_samples_split=3, n_estimators=100 \n",
      "[CV]  max_features=3, min_samples_leaf=5, min_samples_split=3, n_estimators=100, score=0.7757780277465317, total=   1.9s\n",
      "[CV] max_features=3, min_samples_leaf=5, min_samples_split=3, n_estimators=100 \n",
      "[CV]  max_features=3, min_samples_leaf=5, min_samples_split=3, n_estimators=100, score=0.78225, total=   1.9s\n",
      "[CV] max_features=3, min_samples_leaf=5, min_samples_split=3, n_estimators=100 \n",
      "[CV]  max_features=3, min_samples_leaf=5, min_samples_split=3, n_estimators=100, score=0.7777222152769097, total=   1.8s\n",
      "[CV] max_features=3, min_samples_leaf=5, min_samples_split=3, n_estimators=100 \n",
      "[CV]  max_features=3, min_samples_leaf=5, min_samples_split=3, n_estimators=100, score=0.7839729966245781, total=   2.0s\n",
      "[CV] max_features=3, min_samples_leaf=5, min_samples_split=3, n_estimators=200 \n",
      "[CV]  max_features=3, min_samples_leaf=5, min_samples_split=3, n_estimators=200, score=0.7846519185101862, total=   4.0s\n",
      "[CV] max_features=3, min_samples_leaf=5, min_samples_split=3, n_estimators=200 \n",
      "[CV]  max_features=3, min_samples_leaf=5, min_samples_split=3, n_estimators=200, score=0.7741532308461442, total=   3.8s\n",
      "[CV] max_features=3, min_samples_leaf=5, min_samples_split=3, n_estimators=200 \n",
      "[CV]  max_features=3, min_samples_leaf=5, min_samples_split=3, n_estimators=200, score=0.785, total=   3.7s\n",
      "[CV] max_features=3, min_samples_leaf=5, min_samples_split=3, n_estimators=200 \n",
      "[CV]  max_features=3, min_samples_leaf=5, min_samples_split=3, n_estimators=200, score=0.7777222152769097, total=   3.6s\n",
      "[CV] max_features=3, min_samples_leaf=5, min_samples_split=3, n_estimators=200 \n",
      "[CV]  max_features=3, min_samples_leaf=5, min_samples_split=3, n_estimators=200, score=0.784973121640205, total=   3.8s\n"
     ]
    },
    {
     "name": "stderr",
     "output_type": "stream",
     "text": [
      "[Parallel(n_jobs=1)]: Done  80 out of  80 | elapsed:  4.3min finished\n"
     ]
    },
    {
     "name": "stdout",
     "output_type": "stream",
     "text": [
      "{'max_features': 2, 'min_samples_leaf': 5, 'min_samples_split': 3, 'n_estimators': 200}\n"
     ]
    }
   ],
   "source": [
    "#Apply grid serach to refine random search parameters:\n",
    "param = {'n_estimators': [100,200], 'min_samples_split': [2,3], 'min_samples_leaf': [4,5], 'max_features': [2,3]}\n",
    "gs_rf = GridSearchCV(rf, param_grid=param, cv = 5, verbose = 3)\n",
    "rf_tuned =gs_rf.fit(X_train, y_train)\n",
    "print(rf_tuned.best_params_)"
   ]
  },
  {
   "cell_type": "markdown",
   "metadata": {},
   "source": [
    "**Grid serach best parameters**\n",
    "{'max_features': 2, 'min_samples_leaf': 5, 'min_samples_split': 3, 'n_estimators': 200}"
   ]
  },
  {
   "cell_type": "code",
   "execution_count": 1259,
   "metadata": {},
   "outputs": [],
   "source": [
    "#Fit tuned model to predict: \n",
    "y_pred_rf = rf_tuned.predict(X_test)\n",
    "y_pred_rf_prob = rf_tuned.predict_proba(X_test)[:,1]"
   ]
  },
  {
   "cell_type": "code",
   "execution_count": 1260,
   "metadata": {},
   "outputs": [
    {
     "name": "stdout",
     "output_type": "stream",
     "text": [
      "Classification Report Random Forest:\n",
      "               precision    recall  f1-score   support\n",
      "\n",
      "           0       0.80      0.86      0.83      6218\n",
      "           1       0.74      0.64      0.69      3782\n",
      "\n",
      "   micro avg       0.78      0.78      0.78     10000\n",
      "   macro avg       0.77      0.75      0.76     10000\n",
      "weighted avg       0.78      0.78      0.78     10000\n",
      "\n",
      "Confusion Matrix:\n",
      " [[5364  854]\n",
      " [1345 2437]]\n",
      "Accuracy Score: 0.7801\n"
     ]
    }
   ],
   "source": [
    "#Evaluate:\n",
    "print('Classification Report Random Forest:\\n',classification_report(y_test, y_pred_rf))\n",
    "print('Confusion Matrix:\\n',confusion_matrix(y_test, y_pred_rf))\n",
    "print('Accuracy Score:', accuracy_score(y_test, y_pred_rf))"
   ]
  },
  {
   "cell_type": "code",
   "execution_count": 1261,
   "metadata": {},
   "outputs": [
    {
     "data": {
      "image/png": "[encoded data removed]",
      "text/plain": [
       "<Figure size 432x288 with 2 Axes>"
      ]
     },
     "metadata": {
      "needs_background": "light"
     },
     "output_type": "display_data"
    }
   ],
   "source": [
    "sns.heatmap(confusion_matrix(y_test, y_pred_rf), \n",
    "            annot = True, fmt='d',\n",
    "            xticklabels=['not_retained', 'retained'], #0-not_retained, 1-retained\n",
    "            yticklabels=['not_retained', 'retained'])\n",
    "_ = plt.xlabel('Actual')\n",
    "_ = plt.ylabel('Predicted')\n",
    "_ = plt.title('Confusion Matrix Random Forest')"
   ]
  },
  {
   "cell_type": "code",
   "execution_count": 1287,
   "metadata": {},
   "outputs": [
    {
     "name": "stdout",
     "output_type": "stream",
     "text": [
      "0.8465544327304821\n"
     ]
    },
    {
     "data": {
      "image/png": "[encoded data removed]",
      "text/plain": [
       "<Figure size 432x288 with 1 Axes>"
      ]
     },
     "metadata": {
      "needs_background": "light"
     },
     "output_type": "display_data"
    }
   ],
   "source": [
    "#ROCAUC Curve:\n",
    "\n",
    "fpr,tpr, thresholds = roc_curve(y_test, y_pred_rf_prob)\n",
    "_ = plt.plot([0,1], [0,1])\n",
    "_ = plt.plot(fpr,tpr)\n",
    "_ = plt.xlabel('FPR')\n",
    "_ = plt.ylabel('TPR')\n",
    "_ = plt.title('ROC Curve Random Forest')\n",
    "\n",
    "print(roc_auc_score(y_test, y_pred_rf_prob))"
   ]
  },
  {
   "cell_type": "code",
   "execution_count": 1275,
   "metadata": {},
   "outputs": [
    {
     "data": {
      "text/plain": [
       "RandomForestClassifier(bootstrap=True, class_weight=None, criterion='gini',\n",
       "            max_depth=None, max_features=2, max_leaf_nodes=None,\n",
       "            min_impurity_decrease=0.0, min_impurity_split=None,\n",
       "            min_samples_leaf=5, min_samples_split=3,\n",
       "            min_weight_fraction_leaf=0.0, n_estimators=200, n_jobs=None,\n",
       "            oob_score=False, random_state=12, verbose=0, warm_start=False)"
      ]
     },
     "execution_count": 1275,
     "metadata": {},
     "output_type": "execute_result"
    }
   ],
   "source": [
    "#Refit rf parameters obtained from grid serach to find feature imporatnce:\n",
    "rf_parameter = RandomForestClassifier(max_features= 2,\n",
    "                                      min_samples_leaf= 5,\n",
    "                                      min_samples_split= 3,\n",
    "                                      n_estimators= 200,\n",
    "                                      random_state = 12)\n",
    "rf_parameter.fit(X_train,y_train)"
   ]
  },
  {
   "cell_type": "code",
   "execution_count": 1293,
   "metadata": {},
   "outputs": [
    {
     "name": "stdout",
     "output_type": "stream",
     "text": [
      "Top 5 Features used in classifying user_retention:\n",
      "                       Feature_importance\n",
      "Columns                                 \n",
      "avg_rating_by_driver            0.176949\n",
      "last_trip_date                  0.157316\n",
      "avg_dist                        0.153666\n",
      "phone                           0.113649\n",
      "avg_surge                       0.112951\n"
     ]
    },
    {
     "data": {
      "image/png": "[encoded data removed]",
      "text/plain": [
       "<Figure size 1080x720 with 1 Axes>"
      ]
     },
     "metadata": {
      "needs_background": "light"
     },
     "output_type": "display_data"
    }
   ],
   "source": [
    "feature_importance = pd.DataFrame(list(zip(rt.columns,rf_parameter.feature_importances_)), columns = ['Columns', 'Feature_importance'])\n",
    "print('Top 5 Features used in classifying user_retention:\\n', feature_importance.set_index('Columns').sort_values('Feature_importance', ascending= False).head())\n",
    "feature_importance.set_index('Columns').sort_values('Feature_importance', ascending= False).plot.bar(cmap = 'Set1', figsize = (15,10), alpha = 0.8)\n",
    "_ = plt.xlabel('Columns', fontsize = 15)\n",
    "_ = plt.ylabel('Feature Importance', fontsize = 15)\n",
    "_ = _ = plt.title('Feature Importance Distribution', fontsize = 15)\n"
   ]
  },
  {
   "cell_type": "markdown",
   "metadata": {},
   "source": [
    "#### Conclusion: \n",
    "1. Out of 3 models, Random forest performed best. It classified user retention with 78% accuracy and ROC AUC Score of 84.6%. \n",
    "2. Average Rating by Driver is one of the most important feature in classifying user_retention."
   ]
  },
  {
   "cell_type": "code",
   "execution_count": null,
   "metadata": {},
   "outputs": [],
   "source": []
  }
 ],
 "metadata": {
  "kernelspec": {
   "display_name": "Python 3",
   "language": "python",
   "name": "python3"
  },
  "language_info": {
   "codemirror_mode": {
    "name": "ipython",
    "version": 3
   },
   "file_extension": ".py",
   "mimetype": "text/x-python",
   "name": "python",
   "nbconvert_exporter": "python",
   "pygments_lexer": "ipython3",
   "version": "3.6.9"
  }
 },
 "nbformat": 4,
 "nbformat_minor": 2
}
