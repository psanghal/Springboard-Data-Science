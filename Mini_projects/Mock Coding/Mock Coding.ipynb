{
 "cells": [
  {
   "cell_type": "code",
   "execution_count": 95,
   "metadata": {},
   "outputs": [
    {
     "name": "stdout",
     "output_type": "stream",
     "text": [
      "Output: {10030: 2, 55000: 2, 55804: 2, 10250: 1, 10510: 1}\n"
     ]
    }
   ],
   "source": [
    "#Counting all enrol_code and student_id in a list:\n",
    "lst = [[10030,55000], [10030,55804], [10250,55804], [10510,55000]]\n",
    "\n",
    "counts = dict()\n",
    "for num in lst:\n",
    "    for n in num:\n",
    "        counts[n] = counts.get(n,0)+1\n",
    "print('Output:', counts)"
   ]
  },
  {
   "cell_type": "code",
   "execution_count": 129,
   "metadata": {},
   "outputs": [
    {
     "name": "stdout",
     "output_type": "stream",
     "text": [
      "10030\n",
      "55000\n"
     ]
    }
   ],
   "source": [
    "#Counting only enrol_code in a list:\n",
    "lst = [[10030,55000], [10030,55804], [10250,55804], [10510,55000]]\n",
    "counts = dict()\n",
    "for num in lst:    \n",
    "    print (num)\n",
    "    #j = num[0]\n",
    "    counts[num[0]] = counts.get(num[0],0) +1\n",
    "print('Required Output:', counts)"
   ]
  },
  {
   "cell_type": "code",
   "execution_count": null,
   "metadata": {},
   "outputs": [],
   "source": []
  }
 ],
 "metadata": {
  "kernelspec": {
   "display_name": "Python 3",
   "language": "python",
   "name": "python3"
  },
  "language_info": {
   "codemirror_mode": {
    "name": "ipython",
    "version": 3
   },
   "file_extension": ".py",
   "mimetype": "text/x-python",
   "name": "python",
   "nbconvert_exporter": "python",
   "pygments_lexer": "ipython3",
   "version": "3.6.9"
  }
 },
 "nbformat": 4,
 "nbformat_minor": 2
}
